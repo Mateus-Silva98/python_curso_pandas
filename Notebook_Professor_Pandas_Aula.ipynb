{
  "cells": [
    {
      "cell_type": "markdown",
      "metadata": {
        "id": "view-in-github",
        "colab_type": "text"
      },
      "source": [
        "<a href=\"https://colab.research.google.com/github/Mateus-Silva98/python_curso_pandas/blob/main/Notebook_Professor_Pandas_Aula.ipynb\" target=\"_parent\"><img src=\"https://colab.research.google.com/assets/colab-badge.svg\" alt=\"Open In Colab\"/></a>"
      ]
    },
    {
      "cell_type": "code",
      "execution_count": null,
      "id": "84803aa8-31cf-4e68-bdd5-a8c3a4ec577c",
      "metadata": {
        "id": "84803aa8-31cf-4e68-bdd5-a8c3a4ec577c",
        "outputId": "b3965f47-4ce7-48d2-d0fe-677e54ded886"
      },
      "outputs": [
        {
          "name": "stdout",
          "output_type": "stream",
          "text": [
            "Requirement already satisfied: pandas in /opt/anaconda3/envs/ds/lib/python3.9/site-packages (1.5.3)\n",
            "Requirement already satisfied: matplotlib in /opt/anaconda3/envs/ds/lib/python3.9/site-packages (3.7.1)\n",
            "Requirement already satisfied: numpy in /opt/anaconda3/envs/ds/lib/python3.9/site-packages (1.24.2)\n",
            "Collecting seaborn\n",
            "  Downloading seaborn-0.12.2-py3-none-any.whl (293 kB)\n",
            "\u001b[2K     \u001b[90m━━━━━━━━━━━━━━━━━━━━━━━━━━━━━━━━━━━━━━━\u001b[0m \u001b[32m293.3/293.3 kB\u001b[0m \u001b[31m2.2 MB/s\u001b[0m eta \u001b[36m0:00:00\u001b[0m00:01\u001b[0m00:01\u001b[0m\n",
            "\u001b[?25hRequirement already satisfied: pytz>=2020.1 in /opt/anaconda3/envs/ds/lib/python3.9/site-packages (from pandas) (2022.7)\n",
            "Requirement already satisfied: python-dateutil>=2.8.1 in /opt/anaconda3/envs/ds/lib/python3.9/site-packages (from pandas) (2.8.2)\n",
            "Requirement already satisfied: cycler>=0.10 in /opt/anaconda3/envs/ds/lib/python3.9/site-packages (from matplotlib) (0.11.0)\n",
            "Requirement already satisfied: kiwisolver>=1.0.1 in /opt/anaconda3/envs/ds/lib/python3.9/site-packages (from matplotlib) (1.4.4)\n",
            "Requirement already satisfied: pyparsing>=2.3.1 in /opt/anaconda3/envs/ds/lib/python3.9/site-packages (from matplotlib) (3.0.9)\n",
            "Requirement already satisfied: contourpy>=1.0.1 in /opt/anaconda3/envs/ds/lib/python3.9/site-packages (from matplotlib) (1.0.7)\n",
            "Requirement already satisfied: packaging>=20.0 in /opt/anaconda3/envs/ds/lib/python3.9/site-packages (from matplotlib) (22.0)\n",
            "Requirement already satisfied: pillow>=6.2.0 in /opt/anaconda3/envs/ds/lib/python3.9/site-packages (from matplotlib) (9.4.0)\n",
            "Requirement already satisfied: fonttools>=4.22.0 in /opt/anaconda3/envs/ds/lib/python3.9/site-packages (from matplotlib) (4.39.0)\n",
            "Requirement already satisfied: importlib-resources>=3.2.0 in /opt/anaconda3/envs/ds/lib/python3.9/site-packages (from matplotlib) (5.12.0)\n",
            "Requirement already satisfied: zipp>=3.1.0 in /opt/anaconda3/envs/ds/lib/python3.9/site-packages (from importlib-resources>=3.2.0->matplotlib) (3.11.0)\n",
            "Requirement already satisfied: six>=1.5 in /opt/anaconda3/envs/ds/lib/python3.9/site-packages (from python-dateutil>=2.8.1->pandas) (1.16.0)\n",
            "Installing collected packages: seaborn\n",
            "Successfully installed seaborn-0.12.2\n"
          ]
        }
      ],
      "source": [
        "!pip3 install pandas matplotlib numpy seaborn"
      ]
    },
    {
      "cell_type": "markdown",
      "id": "fd6b0fdd-8023-47d2-9f3d-92e48aa55c4c",
      "metadata": {
        "id": "fd6b0fdd-8023-47d2-9f3d-92e48aa55c4c"
      },
      "source": [
        "* Nota média por município\n",
        "* Apenas a título de ilustração, imputar o missing na prova de Matemática pela média ou mediana de algum grupo ou grupos escolhido.\n",
        "* Quais municípios possuem a maior quantidade de inscritos."
      ]
    },
    {
      "cell_type": "code",
      "execution_count": null,
      "id": "83690567-a39a-40e2-bcb1-eaf16dd0c2be",
      "metadata": {
        "id": "83690567-a39a-40e2-bcb1-eaf16dd0c2be"
      },
      "outputs": [],
      "source": [
        "import pandas as pd\n",
        "import numpy as np"
      ]
    },
    {
      "cell_type": "code",
      "execution_count": null,
      "id": "b5cfe406-ab80-499e-8b53-c5d3b75a4c06",
      "metadata": {
        "id": "b5cfe406-ab80-499e-8b53-c5d3b75a4c06"
      },
      "outputs": [],
      "source": [
        "pd.set_option('display.max_columns', 100)"
      ]
    },
    {
      "cell_type": "code",
      "execution_count": null,
      "id": "baaed24a-e1b1-4eca-9130-12e18010f3f9",
      "metadata": {
        "id": "baaed24a-e1b1-4eca-9130-12e18010f3f9"
      },
      "outputs": [],
      "source": [
        "df = pd.read_csv('dados_enem_2021_BA.csv')"
      ]
    },
    {
      "cell_type": "code",
      "execution_count": null,
      "id": "e44e1e71-71bd-490a-850d-05236f7bf112",
      "metadata": {
        "id": "e44e1e71-71bd-490a-850d-05236f7bf112",
        "outputId": "6830730b-e711-465b-91be-02bc00473a10"
      },
      "outputs": [
        {
          "data": {
            "text/plain": [
              "(266194, 51)"
            ]
          },
          "execution_count": 6,
          "metadata": {},
          "output_type": "execute_result"
        }
      ],
      "source": [
        "df.shape"
      ]
    },
    {
      "cell_type": "code",
      "execution_count": null,
      "id": "3b6bd51d-9b63-40c0-be2b-c3f8f17abfba",
      "metadata": {
        "id": "3b6bd51d-9b63-40c0-be2b-c3f8f17abfba",
        "outputId": "bef008b8-d473-4ba9-dcd4-80ec3ae9eab4"
      },
      "outputs": [
        {
          "data": {
            "text/html": [
              "<div>\n",
              "<style scoped>\n",
              "    .dataframe tbody tr th:only-of-type {\n",
              "        vertical-align: middle;\n",
              "    }\n",
              "\n",
              "    .dataframe tbody tr th {\n",
              "        vertical-align: top;\n",
              "    }\n",
              "\n",
              "    .dataframe thead th {\n",
              "        text-align: right;\n",
              "    }\n",
              "</style>\n",
              "<table border=\"1\" class=\"dataframe\">\n",
              "  <thead>\n",
              "    <tr style=\"text-align: right;\">\n",
              "      <th></th>\n",
              "      <th>NU_INSCRICAO</th>\n",
              "      <th>NU_ANO</th>\n",
              "      <th>TP_FAIXA_ETARIA</th>\n",
              "      <th>TP_SEXO</th>\n",
              "      <th>TP_ESTADO_CIVIL</th>\n",
              "      <th>TP_COR_RACA</th>\n",
              "      <th>TP_NACIONALIDADE</th>\n",
              "      <th>TP_ST_CONCLUSAO</th>\n",
              "      <th>TP_ANO_CONCLUIU</th>\n",
              "      <th>TP_ESCOLA</th>\n",
              "      <th>TP_ENSINO</th>\n",
              "      <th>IN_TREINEIRO</th>\n",
              "      <th>CO_MUNICIPIO_ESC</th>\n",
              "      <th>NO_MUNICIPIO_ESC</th>\n",
              "      <th>CO_UF_ESC</th>\n",
              "      <th>SG_UF_ESC</th>\n",
              "      <th>TP_DEPENDENCIA_ADM_ESC</th>\n",
              "      <th>TP_LOCALIZACAO_ESC</th>\n",
              "      <th>TP_SIT_FUNC_ESC</th>\n",
              "      <th>CO_MUNICIPIO_PROVA</th>\n",
              "      <th>NO_MUNICIPIO_PROVA</th>\n",
              "      <th>CO_UF_PROVA</th>\n",
              "      <th>SG_UF_PROVA</th>\n",
              "      <th>TP_PRESENCA_CN</th>\n",
              "      <th>TP_PRESENCA_CH</th>\n",
              "      <th>TP_PRESENCA_LC</th>\n",
              "      <th>TP_PRESENCA_MT</th>\n",
              "      <th>CO_PROVA_CN</th>\n",
              "      <th>CO_PROVA_CH</th>\n",
              "      <th>CO_PROVA_LC</th>\n",
              "      <th>CO_PROVA_MT</th>\n",
              "      <th>NU_NOTA_CN</th>\n",
              "      <th>NU_NOTA_CH</th>\n",
              "      <th>NU_NOTA_LC</th>\n",
              "      <th>NU_NOTA_MT</th>\n",
              "      <th>TX_RESPOSTAS_CN</th>\n",
              "      <th>TX_RESPOSTAS_CH</th>\n",
              "      <th>TX_RESPOSTAS_LC</th>\n",
              "      <th>TX_RESPOSTAS_MT</th>\n",
              "      <th>TP_LINGUA</th>\n",
              "      <th>TX_GABARITO_CN</th>\n",
              "      <th>TX_GABARITO_CH</th>\n",
              "      <th>TX_GABARITO_LC</th>\n",
              "      <th>TX_GABARITO_MT</th>\n",
              "      <th>TP_STATUS_REDACAO</th>\n",
              "      <th>NU_NOTA_COMP1</th>\n",
              "      <th>NU_NOTA_COMP2</th>\n",
              "      <th>NU_NOTA_COMP3</th>\n",
              "      <th>NU_NOTA_COMP4</th>\n",
              "      <th>NU_NOTA_COMP5</th>\n",
              "      <th>NU_NOTA_REDACAO</th>\n",
              "    </tr>\n",
              "  </thead>\n",
              "  <tbody>\n",
              "    <tr>\n",
              "      <th>0</th>\n",
              "      <td>210051128744</td>\n",
              "      <td>2021</td>\n",
              "      <td>4</td>\n",
              "      <td>F</td>\n",
              "      <td>1</td>\n",
              "      <td>3</td>\n",
              "      <td>1</td>\n",
              "      <td>2</td>\n",
              "      <td>0</td>\n",
              "      <td>2</td>\n",
              "      <td>1.0</td>\n",
              "      <td>0</td>\n",
              "      <td>NaN</td>\n",
              "      <td>NaN</td>\n",
              "      <td>NaN</td>\n",
              "      <td>NaN</td>\n",
              "      <td>NaN</td>\n",
              "      <td>NaN</td>\n",
              "      <td>NaN</td>\n",
              "      <td>2927200</td>\n",
              "      <td>Ruy Barbosa</td>\n",
              "      <td>29</td>\n",
              "      <td>BA</td>\n",
              "      <td>1</td>\n",
              "      <td>1</td>\n",
              "      <td>1</td>\n",
              "      <td>1</td>\n",
              "      <td>909.0</td>\n",
              "      <td>881.0</td>\n",
              "      <td>892.0</td>\n",
              "      <td>899.0</td>\n",
              "      <td>507.6</td>\n",
              "      <td>539.2</td>\n",
              "      <td>494.6</td>\n",
              "      <td>413.3</td>\n",
              "      <td>BAEDEBDECCEAEDDCBDEDAEECEEEDBDECBDCECBCCDABED</td>\n",
              "      <td>EEEBAABCBCDBEAEBEACEDDEDECACBDBCDACECDAECBCBD</td>\n",
              "      <td>99999ACAEEEEBDEACDACDEABCEABBDEDBAEEBDEEACDBAC...</td>\n",
              "      <td>BACEACDACBAAAEDCECABBACDCDBBA.CEABCDADADBECBE</td>\n",
              "      <td>1</td>\n",
              "      <td>EDECABEDABCBEBACCDCBBEEBBCBDAAECDCBDCDBBBADCD</td>\n",
              "      <td>BEECCAEABADBCAEBAAEEDDEBBBADBCBAAEEBBBADCCBBA</td>\n",
              "      <td>ABBACAAECACDBDDADEBDDCBDCEDBEDDBBBBDCEEAADABAC...</td>\n",
              "      <td>EEXEBABDDCECCBCCECDCAEBADEABBDBDEDCEDCCADDCAB</td>\n",
              "      <td>1.0</td>\n",
              "      <td>80.0</td>\n",
              "      <td>120.0</td>\n",
              "      <td>80.0</td>\n",
              "      <td>80.0</td>\n",
              "      <td>20.0</td>\n",
              "      <td>380.0</td>\n",
              "    </tr>\n",
              "    <tr>\n",
              "      <th>1</th>\n",
              "      <td>210054173438</td>\n",
              "      <td>2021</td>\n",
              "      <td>5</td>\n",
              "      <td>F</td>\n",
              "      <td>1</td>\n",
              "      <td>2</td>\n",
              "      <td>1</td>\n",
              "      <td>2</td>\n",
              "      <td>0</td>\n",
              "      <td>2</td>\n",
              "      <td>1.0</td>\n",
              "      <td>0</td>\n",
              "      <td>2927408.0</td>\n",
              "      <td>Salvador</td>\n",
              "      <td>29.0</td>\n",
              "      <td>BA</td>\n",
              "      <td>1.0</td>\n",
              "      <td>1.0</td>\n",
              "      <td>1.0</td>\n",
              "      <td>2927408</td>\n",
              "      <td>Salvador</td>\n",
              "      <td>29</td>\n",
              "      <td>BA</td>\n",
              "      <td>0</td>\n",
              "      <td>0</td>\n",
              "      <td>0</td>\n",
              "      <td>0</td>\n",
              "      <td>NaN</td>\n",
              "      <td>NaN</td>\n",
              "      <td>NaN</td>\n",
              "      <td>NaN</td>\n",
              "      <td>NaN</td>\n",
              "      <td>NaN</td>\n",
              "      <td>NaN</td>\n",
              "      <td>NaN</td>\n",
              "      <td>NaN</td>\n",
              "      <td>NaN</td>\n",
              "      <td>NaN</td>\n",
              "      <td>NaN</td>\n",
              "      <td>0</td>\n",
              "      <td>NaN</td>\n",
              "      <td>NaN</td>\n",
              "      <td>NaN</td>\n",
              "      <td>NaN</td>\n",
              "      <td>NaN</td>\n",
              "      <td>NaN</td>\n",
              "      <td>NaN</td>\n",
              "      <td>NaN</td>\n",
              "      <td>NaN</td>\n",
              "      <td>NaN</td>\n",
              "      <td>NaN</td>\n",
              "    </tr>\n",
              "    <tr>\n",
              "      <th>2</th>\n",
              "      <td>210052118573</td>\n",
              "      <td>2021</td>\n",
              "      <td>3</td>\n",
              "      <td>F</td>\n",
              "      <td>1</td>\n",
              "      <td>3</td>\n",
              "      <td>1</td>\n",
              "      <td>2</td>\n",
              "      <td>0</td>\n",
              "      <td>2</td>\n",
              "      <td>1.0</td>\n",
              "      <td>0</td>\n",
              "      <td>NaN</td>\n",
              "      <td>NaN</td>\n",
              "      <td>NaN</td>\n",
              "      <td>NaN</td>\n",
              "      <td>NaN</td>\n",
              "      <td>NaN</td>\n",
              "      <td>NaN</td>\n",
              "      <td>2903201</td>\n",
              "      <td>Barreiras</td>\n",
              "      <td>29</td>\n",
              "      <td>BA</td>\n",
              "      <td>1</td>\n",
              "      <td>1</td>\n",
              "      <td>1</td>\n",
              "      <td>1</td>\n",
              "      <td>912.0</td>\n",
              "      <td>882.0</td>\n",
              "      <td>891.0</td>\n",
              "      <td>901.0</td>\n",
              "      <td>439.6</td>\n",
              "      <td>437.7</td>\n",
              "      <td>455.9</td>\n",
              "      <td>446.2</td>\n",
              "      <td>BCEDEACAEDCEDCBDDCCAADABADDEBEECBACDCCABBDCCA</td>\n",
              "      <td>AAEADCDCAAADCBBBAABBEAEDABCDAACDDCBDAAABAABBB</td>\n",
              "      <td>EDBEC99999DDAAEBBDCDBBAABDECAADAEACCDABCEABABE...</td>\n",
              "      <td>EBBEBDCCDDCDCBADABBBCCEABDADCBCCACBDACDCDADCE</td>\n",
              "      <td>0</td>\n",
              "      <td>DABCEDEBEEBBCABEDDCBCBECDADCDAACBDCCCDBBBEBAB</td>\n",
              "      <td>EBAAEADBCACBBABEECBAAEEBBBADCBADBCEDDEBBCAEAB</td>\n",
              "      <td>ACABBACAEADCEADABDACDCEABDDADBEDDDEBBACCDDDCCE...</td>\n",
              "      <td>DCCAEBABDDCABEECCBCCEXADDCEECDEBADCABBDBDEDCE</td>\n",
              "      <td>1.0</td>\n",
              "      <td>80.0</td>\n",
              "      <td>120.0</td>\n",
              "      <td>80.0</td>\n",
              "      <td>100.0</td>\n",
              "      <td>80.0</td>\n",
              "      <td>460.0</td>\n",
              "    </tr>\n",
              "    <tr>\n",
              "      <th>3</th>\n",
              "      <td>210052350230</td>\n",
              "      <td>2021</td>\n",
              "      <td>10</td>\n",
              "      <td>F</td>\n",
              "      <td>1</td>\n",
              "      <td>2</td>\n",
              "      <td>1</td>\n",
              "      <td>1</td>\n",
              "      <td>8</td>\n",
              "      <td>1</td>\n",
              "      <td>NaN</td>\n",
              "      <td>0</td>\n",
              "      <td>NaN</td>\n",
              "      <td>NaN</td>\n",
              "      <td>NaN</td>\n",
              "      <td>NaN</td>\n",
              "      <td>NaN</td>\n",
              "      <td>NaN</td>\n",
              "      <td>NaN</td>\n",
              "      <td>2928802</td>\n",
              "      <td>Santo Estêvão</td>\n",
              "      <td>29</td>\n",
              "      <td>BA</td>\n",
              "      <td>1</td>\n",
              "      <td>1</td>\n",
              "      <td>1</td>\n",
              "      <td>1</td>\n",
              "      <td>911.0</td>\n",
              "      <td>880.0</td>\n",
              "      <td>890.0</td>\n",
              "      <td>902.0</td>\n",
              "      <td>548.1</td>\n",
              "      <td>619.5</td>\n",
              "      <td>676.3</td>\n",
              "      <td>386.6</td>\n",
              "      <td>CCAECCADEAADDEDDEECEDDEADDDCACDEDCDCDEADBEDDE</td>\n",
              "      <td>DBBEADDCABABCECEAEBEAEDCBCAEABEEDEBBEAABCBDCD</td>\n",
              "      <td>ABCCA99999DDCACDCACABBEAAEBDAEEBDEEAADACEEDDDB...</td>\n",
              "      <td>CAAAAAAAAAAAAAAAAAAAAAAAAAAAAAAAAAAAAAAAAAAAA</td>\n",
              "      <td>0</td>\n",
              "      <td>CDBBBCABEDEDEAAEBACCCBDABCDCBCBDECDADCDBBEEBB</td>\n",
              "      <td>BBBAAEECBBABEECEBAAEADBCACAEABEDDEBBBADBCBADC</td>\n",
              "      <td>ABBCAEAACADDCACDCADABBBBDEBBACEADCEBDDACEEDDDB...</td>\n",
              "      <td>ECCCABBDBDDDCEDDCABXEEEBABEDCEDCCAEBADBCCECDA</td>\n",
              "      <td>1.0</td>\n",
              "      <td>120.0</td>\n",
              "      <td>120.0</td>\n",
              "      <td>100.0</td>\n",
              "      <td>120.0</td>\n",
              "      <td>120.0</td>\n",
              "      <td>580.0</td>\n",
              "    </tr>\n",
              "    <tr>\n",
              "      <th>4</th>\n",
              "      <td>210053156861</td>\n",
              "      <td>2021</td>\n",
              "      <td>9</td>\n",
              "      <td>M</td>\n",
              "      <td>1</td>\n",
              "      <td>2</td>\n",
              "      <td>1</td>\n",
              "      <td>1</td>\n",
              "      <td>5</td>\n",
              "      <td>1</td>\n",
              "      <td>NaN</td>\n",
              "      <td>0</td>\n",
              "      <td>NaN</td>\n",
              "      <td>NaN</td>\n",
              "      <td>NaN</td>\n",
              "      <td>NaN</td>\n",
              "      <td>NaN</td>\n",
              "      <td>NaN</td>\n",
              "      <td>NaN</td>\n",
              "      <td>2910800</td>\n",
              "      <td>Feira de Santana</td>\n",
              "      <td>29</td>\n",
              "      <td>BA</td>\n",
              "      <td>1</td>\n",
              "      <td>1</td>\n",
              "      <td>1</td>\n",
              "      <td>1</td>\n",
              "      <td>1014.0</td>\n",
              "      <td>1000.0</td>\n",
              "      <td>1004.0</td>\n",
              "      <td>1010.0</td>\n",
              "      <td>465.2</td>\n",
              "      <td>613.1</td>\n",
              "      <td>522.1</td>\n",
              "      <td>579.6</td>\n",
              "      <td>CDCCBDBBDCBACEBDACBCACADBCBECCEBCDDEBDACEECCD</td>\n",
              "      <td>CCBAADECCBACBECCBEADAEBEACBEBBEADEBBABDACDEBC</td>\n",
              "      <td>BADCE99999DABAABBABBBCEDBDCDABEABCBBDCACBABAAA...</td>\n",
              "      <td>CCBACBBCCCCEDDDDCBCCDCACCCBBBDDDBCBADDBCABACA</td>\n",
              "      <td>0</td>\n",
              "      <td>CDBBBCABEDEDEAAEBACCCBDABCDCBCBDECDADCDBBEEBB</td>\n",
              "      <td>BBBAAEECBBABEECEBAAEADBCACAEABEDDEBBBADBCBADC</td>\n",
              "      <td>ABBCAEAACADDCACDCADABBBBDEBBACEADCEBDDACEEDDDB...</td>\n",
              "      <td>ECCCABBDBDDDCEDDCABXEEEBABEDCEDCCAEBADBCCECDA</td>\n",
              "      <td>1.0</td>\n",
              "      <td>100.0</td>\n",
              "      <td>120.0</td>\n",
              "      <td>100.0</td>\n",
              "      <td>120.0</td>\n",
              "      <td>100.0</td>\n",
              "      <td>540.0</td>\n",
              "    </tr>\n",
              "  </tbody>\n",
              "</table>\n",
              "</div>"
            ],
            "text/plain": [
              "   NU_INSCRICAO  NU_ANO  TP_FAIXA_ETARIA TP_SEXO  TP_ESTADO_CIVIL  \\\n",
              "0  210051128744    2021                4       F                1   \n",
              "1  210054173438    2021                5       F                1   \n",
              "2  210052118573    2021                3       F                1   \n",
              "3  210052350230    2021               10       F                1   \n",
              "4  210053156861    2021                9       M                1   \n",
              "\n",
              "   TP_COR_RACA  TP_NACIONALIDADE  TP_ST_CONCLUSAO  TP_ANO_CONCLUIU  TP_ESCOLA  \\\n",
              "0            3                 1                2                0          2   \n",
              "1            2                 1                2                0          2   \n",
              "2            3                 1                2                0          2   \n",
              "3            2                 1                1                8          1   \n",
              "4            2                 1                1                5          1   \n",
              "\n",
              "   TP_ENSINO  IN_TREINEIRO  CO_MUNICIPIO_ESC NO_MUNICIPIO_ESC  CO_UF_ESC  \\\n",
              "0        1.0             0               NaN              NaN        NaN   \n",
              "1        1.0             0         2927408.0         Salvador       29.0   \n",
              "2        1.0             0               NaN              NaN        NaN   \n",
              "3        NaN             0               NaN              NaN        NaN   \n",
              "4        NaN             0               NaN              NaN        NaN   \n",
              "\n",
              "  SG_UF_ESC  TP_DEPENDENCIA_ADM_ESC  TP_LOCALIZACAO_ESC  TP_SIT_FUNC_ESC  \\\n",
              "0       NaN                     NaN                 NaN              NaN   \n",
              "1        BA                     1.0                 1.0              1.0   \n",
              "2       NaN                     NaN                 NaN              NaN   \n",
              "3       NaN                     NaN                 NaN              NaN   \n",
              "4       NaN                     NaN                 NaN              NaN   \n",
              "\n",
              "   CO_MUNICIPIO_PROVA NO_MUNICIPIO_PROVA  CO_UF_PROVA SG_UF_PROVA  \\\n",
              "0             2927200        Ruy Barbosa           29          BA   \n",
              "1             2927408           Salvador           29          BA   \n",
              "2             2903201          Barreiras           29          BA   \n",
              "3             2928802      Santo Estêvão           29          BA   \n",
              "4             2910800   Feira de Santana           29          BA   \n",
              "\n",
              "   TP_PRESENCA_CN  TP_PRESENCA_CH  TP_PRESENCA_LC  TP_PRESENCA_MT  \\\n",
              "0               1               1               1               1   \n",
              "1               0               0               0               0   \n",
              "2               1               1               1               1   \n",
              "3               1               1               1               1   \n",
              "4               1               1               1               1   \n",
              "\n",
              "   CO_PROVA_CN  CO_PROVA_CH  CO_PROVA_LC  CO_PROVA_MT  NU_NOTA_CN  NU_NOTA_CH  \\\n",
              "0        909.0        881.0        892.0        899.0       507.6       539.2   \n",
              "1          NaN          NaN          NaN          NaN         NaN         NaN   \n",
              "2        912.0        882.0        891.0        901.0       439.6       437.7   \n",
              "3        911.0        880.0        890.0        902.0       548.1       619.5   \n",
              "4       1014.0       1000.0       1004.0       1010.0       465.2       613.1   \n",
              "\n",
              "   NU_NOTA_LC  NU_NOTA_MT                                TX_RESPOSTAS_CN  \\\n",
              "0       494.6       413.3  BAEDEBDECCEAEDDCBDEDAEECEEEDBDECBDCECBCCDABED   \n",
              "1         NaN         NaN                                            NaN   \n",
              "2       455.9       446.2  BCEDEACAEDCEDCBDDCCAADABADDEBEECBACDCCABBDCCA   \n",
              "3       676.3       386.6  CCAECCADEAADDEDDEECEDDEADDDCACDEDCDCDEADBEDDE   \n",
              "4       522.1       579.6  CDCCBDBBDCBACEBDACBCACADBCBECCEBCDDEBDACEECCD   \n",
              "\n",
              "                                 TX_RESPOSTAS_CH  \\\n",
              "0  EEEBAABCBCDBEAEBEACEDDEDECACBDBCDACECDAECBCBD   \n",
              "1                                            NaN   \n",
              "2  AAEADCDCAAADCBBBAABBEAEDABCDAACDDCBDAAABAABBB   \n",
              "3  DBBEADDCABABCECEAEBEAEDCBCAEABEEDEBBEAABCBDCD   \n",
              "4  CCBAADECCBACBECCBEADAEBEACBEBBEADEBBABDACDEBC   \n",
              "\n",
              "                                     TX_RESPOSTAS_LC  \\\n",
              "0  99999ACAEEEEBDEACDACDEABCEABBDEDBAEEBDEEACDBAC...   \n",
              "1                                                NaN   \n",
              "2  EDBEC99999DDAAEBBDCDBBAABDECAADAEACCDABCEABABE...   \n",
              "3  ABCCA99999DDCACDCACABBEAAEBDAEEBDEEAADACEEDDDB...   \n",
              "4  BADCE99999DABAABBABBBCEDBDCDABEABCBBDCACBABAAA...   \n",
              "\n",
              "                                 TX_RESPOSTAS_MT  TP_LINGUA  \\\n",
              "0  BACEACDACBAAAEDCECABBACDCDBBA.CEABCDADADBECBE          1   \n",
              "1                                            NaN          0   \n",
              "2  EBBEBDCCDDCDCBADABBBCCEABDADCBCCACBDACDCDADCE          0   \n",
              "3  CAAAAAAAAAAAAAAAAAAAAAAAAAAAAAAAAAAAAAAAAAAAA          0   \n",
              "4  CCBACBBCCCCEDDDDCBCCDCACCCBBBDDDBCBADDBCABACA          0   \n",
              "\n",
              "                                  TX_GABARITO_CN  \\\n",
              "0  EDECABEDABCBEBACCDCBBEEBBCBDAAECDCBDCDBBBADCD   \n",
              "1                                            NaN   \n",
              "2  DABCEDEBEEBBCABEDDCBCBECDADCDAACBDCCCDBBBEBAB   \n",
              "3  CDBBBCABEDEDEAAEBACCCBDABCDCBCBDECDADCDBBEEBB   \n",
              "4  CDBBBCABEDEDEAAEBACCCBDABCDCBCBDECDADCDBBEEBB   \n",
              "\n",
              "                                  TX_GABARITO_CH  \\\n",
              "0  BEECCAEABADBCAEBAAEEDDEBBBADBCBAAEEBBBADCCBBA   \n",
              "1                                            NaN   \n",
              "2  EBAAEADBCACBBABEECBAAEEBBBADCBADBCEDDEBBCAEAB   \n",
              "3  BBBAAEECBBABEECEBAAEADBCACAEABEDDEBBBADBCBADC   \n",
              "4  BBBAAEECBBABEECEBAAEADBCACAEABEDDEBBBADBCBADC   \n",
              "\n",
              "                                      TX_GABARITO_LC  \\\n",
              "0  ABBACAAECACDBDDADEBDDCBDCEDBEDDBBBBDCEEAADABAC...   \n",
              "1                                                NaN   \n",
              "2  ACABBACAEADCEADABDACDCEABDDADBEDDDEBBACCDDDCCE...   \n",
              "3  ABBCAEAACADDCACDCADABBBBDEBBACEADCEBDDACEEDDDB...   \n",
              "4  ABBCAEAACADDCACDCADABBBBDEBBACEADCEBDDACEEDDDB...   \n",
              "\n",
              "                                  TX_GABARITO_MT  TP_STATUS_REDACAO  \\\n",
              "0  EEXEBABDDCECCBCCECDCAEBADEABBDBDEDCEDCCADDCAB                1.0   \n",
              "1                                            NaN                NaN   \n",
              "2  DCCAEBABDDCABEECCBCCEXADDCEECDEBADCABBDBDEDCE                1.0   \n",
              "3  ECCCABBDBDDDCEDDCABXEEEBABEDCEDCCAEBADBCCECDA                1.0   \n",
              "4  ECCCABBDBDDDCEDDCABXEEEBABEDCEDCCAEBADBCCECDA                1.0   \n",
              "\n",
              "   NU_NOTA_COMP1  NU_NOTA_COMP2  NU_NOTA_COMP3  NU_NOTA_COMP4  NU_NOTA_COMP5  \\\n",
              "0           80.0          120.0           80.0           80.0           20.0   \n",
              "1            NaN            NaN            NaN            NaN            NaN   \n",
              "2           80.0          120.0           80.0          100.0           80.0   \n",
              "3          120.0          120.0          100.0          120.0          120.0   \n",
              "4          100.0          120.0          100.0          120.0          100.0   \n",
              "\n",
              "   NU_NOTA_REDACAO  \n",
              "0            380.0  \n",
              "1              NaN  \n",
              "2            460.0  \n",
              "3            580.0  \n",
              "4            540.0  "
            ]
          },
          "execution_count": 9,
          "metadata": {},
          "output_type": "execute_result"
        }
      ],
      "source": [
        "# 5 primeiras linhas\n",
        "df.head()"
      ]
    },
    {
      "cell_type": "markdown",
      "id": "8eed6c0d-210a-4a77-9a9c-8dc2f9a0929b",
      "metadata": {
        "id": "8eed6c0d-210a-4a77-9a9c-8dc2f9a0929b"
      },
      "source": [
        "* Média na nota de Matemática por gênero"
      ]
    },
    {
      "cell_type": "code",
      "execution_count": null,
      "id": "68098d89-0598-4e73-9ff5-3d8672f5bfe0",
      "metadata": {
        "id": "68098d89-0598-4e73-9ff5-3d8672f5bfe0"
      },
      "outputs": [],
      "source": [
        "subset_tp_sexo_m = df.query('TP_SEXO == \"M\"')"
      ]
    },
    {
      "cell_type": "code",
      "execution_count": null,
      "id": "a9ce805d-7906-418c-9aee-23872e36bd7a",
      "metadata": {
        "id": "a9ce805d-7906-418c-9aee-23872e36bd7a"
      },
      "outputs": [],
      "source": [
        "subset_tp_sexo_f = df.query('TP_SEXO == \"F\"')"
      ]
    },
    {
      "cell_type": "markdown",
      "id": "df318b42-7740-4657-8d81-d577b15f92e3",
      "metadata": {
        "id": "df318b42-7740-4657-8d81-d577b15f92e3"
      },
      "source": [
        "Agregação:\n",
        "* `df.column.agg_func()`"
      ]
    },
    {
      "cell_type": "code",
      "execution_count": null,
      "id": "87734d53-7d42-4f9e-b8eb-f99cb843d748",
      "metadata": {
        "id": "87734d53-7d42-4f9e-b8eb-f99cb843d748",
        "outputId": "77a7c229-604e-45d4-bc20-5085d89b46d1"
      },
      "outputs": [
        {
          "data": {
            "text/plain": [
              "953.1"
            ]
          },
          "execution_count": 12,
          "metadata": {},
          "output_type": "execute_result"
        }
      ],
      "source": [
        "# nota máximo do Gênero masculino\n",
        "subset_tp_sexo_m.NU_NOTA_MT.max()"
      ]
    },
    {
      "cell_type": "code",
      "execution_count": null,
      "id": "4a16b0dd-10f9-477a-83c9-0881995b3965",
      "metadata": {
        "id": "4a16b0dd-10f9-477a-83c9-0881995b3965",
        "outputId": "9804c758-e7ce-46f7-c96e-3052113660f2"
      },
      "outputs": [
        {
          "data": {
            "text/plain": [
              "944.1"
            ]
          },
          "execution_count": 13,
          "metadata": {},
          "output_type": "execute_result"
        }
      ],
      "source": [
        "# nota máxima do gênero feminino\n",
        "subset_tp_sexo_f.NU_NOTA_MT.max()"
      ]
    },
    {
      "cell_type": "code",
      "execution_count": null,
      "id": "c4eae5b4-38cd-4368-a78b-23de3b048f92",
      "metadata": {
        "id": "c4eae5b4-38cd-4368-a78b-23de3b048f92",
        "outputId": "a6e9bde7-d36d-487e-899d-8c463e31dbf2"
      },
      "outputs": [
        {
          "data": {
            "text/plain": [
              "538.500684898471"
            ]
          },
          "execution_count": 14,
          "metadata": {},
          "output_type": "execute_result"
        }
      ],
      "source": [
        "# nota média do Gênero masculino\n",
        "subset_tp_sexo_m.NU_NOTA_MT.mean()"
      ]
    },
    {
      "cell_type": "code",
      "execution_count": null,
      "id": "15f32e77-2052-49fe-b99c-09f30220864b",
      "metadata": {
        "id": "15f32e77-2052-49fe-b99c-09f30220864b",
        "outputId": "0dc37677-ddbd-4459-efa2-3c4ec17a83ae"
      },
      "outputs": [
        {
          "data": {
            "text/plain": [
              "499.7702519508294"
            ]
          },
          "execution_count": 15,
          "metadata": {},
          "output_type": "execute_result"
        }
      ],
      "source": [
        "# nota máxima do gênero feminino\n",
        "subset_tp_sexo_f.NU_NOTA_MT.mean()"
      ]
    },
    {
      "cell_type": "code",
      "execution_count": null,
      "id": "7bb97048-7684-44af-942f-033961ec5d0a",
      "metadata": {
        "id": "7bb97048-7684-44af-942f-033961ec5d0a",
        "outputId": "01532bc5-df1c-49e9-dafd-f3b930ad4777"
      },
      "outputs": [
        {
          "data": {
            "text/plain": [
              "522.0"
            ]
          },
          "execution_count": 16,
          "metadata": {},
          "output_type": "execute_result"
        }
      ],
      "source": [
        "# nota média do Gênero masculino\n",
        "subset_tp_sexo_m.NU_NOTA_MT.median()"
      ]
    },
    {
      "cell_type": "code",
      "execution_count": null,
      "id": "9f0b0b09-3e5c-4303-9c92-c7afeb650924",
      "metadata": {
        "id": "9f0b0b09-3e5c-4303-9c92-c7afeb650924",
        "outputId": "1d4e3a4f-d851-489d-bddb-e9ae6b8b5b0d"
      },
      "outputs": [
        {
          "data": {
            "text/plain": [
              "478.2"
            ]
          },
          "execution_count": 17,
          "metadata": {},
          "output_type": "execute_result"
        }
      ],
      "source": [
        "# nota máxima do gênero feminino\n",
        "subset_tp_sexo_f.NU_NOTA_MT.median()"
      ]
    },
    {
      "cell_type": "code",
      "execution_count": null,
      "id": "bf3ebb1a-cb52-44d2-b2d9-f1223f7a188b",
      "metadata": {
        "id": "bf3ebb1a-cb52-44d2-b2d9-f1223f7a188b"
      },
      "outputs": [],
      "source": [
        "provas = df.columns[(df.columns.str.contains('NOTA')) & (~df.columns.str.contains('COMP'))].tolist()\n",
        "idCandidato = ['NU_INSCRICAO']"
      ]
    },
    {
      "cell_type": "code",
      "execution_count": null,
      "id": "6537cce1-c33f-4a0e-8abd-829021ea60ba",
      "metadata": {
        "id": "6537cce1-c33f-4a0e-8abd-829021ea60ba",
        "outputId": "6f40db65-687b-4e97-eda8-cde632b08f55"
      },
      "outputs": [
        {
          "data": {
            "text/html": [
              "<div>\n",
              "<style scoped>\n",
              "    .dataframe tbody tr th:only-of-type {\n",
              "        vertical-align: middle;\n",
              "    }\n",
              "\n",
              "    .dataframe tbody tr th {\n",
              "        vertical-align: top;\n",
              "    }\n",
              "\n",
              "    .dataframe thead th {\n",
              "        text-align: right;\n",
              "    }\n",
              "</style>\n",
              "<table border=\"1\" class=\"dataframe\">\n",
              "  <thead>\n",
              "    <tr style=\"text-align: right;\">\n",
              "      <th></th>\n",
              "      <th>amin</th>\n",
              "      <th>mean</th>\n",
              "      <th>median</th>\n",
              "      <th>amax</th>\n",
              "    </tr>\n",
              "  </thead>\n",
              "  <tbody>\n",
              "    <tr>\n",
              "      <th>NU_NOTA_CN</th>\n",
              "      <td>0.0</td>\n",
              "      <td>495.43</td>\n",
              "      <td>488.80</td>\n",
              "      <td>839.0</td>\n",
              "    </tr>\n",
              "    <tr>\n",
              "      <th>NU_NOTA_CH</th>\n",
              "      <td>0.0</td>\n",
              "      <td>519.71</td>\n",
              "      <td>523.00</td>\n",
              "      <td>846.9</td>\n",
              "    </tr>\n",
              "    <tr>\n",
              "      <th>NU_NOTA_LC</th>\n",
              "      <td>0.0</td>\n",
              "      <td>496.80</td>\n",
              "      <td>499.75</td>\n",
              "      <td>773.5</td>\n",
              "    </tr>\n",
              "    <tr>\n",
              "      <th>NU_NOTA_MT</th>\n",
              "      <td>0.0</td>\n",
              "      <td>538.50</td>\n",
              "      <td>522.00</td>\n",
              "      <td>953.1</td>\n",
              "    </tr>\n",
              "    <tr>\n",
              "      <th>NU_NOTA_REDACAO</th>\n",
              "      <td>0.0</td>\n",
              "      <td>592.53</td>\n",
              "      <td>600.00</td>\n",
              "      <td>980.0</td>\n",
              "    </tr>\n",
              "  </tbody>\n",
              "</table>\n",
              "</div>"
            ],
            "text/plain": [
              "                 amin    mean  median   amax\n",
              "NU_NOTA_CN        0.0  495.43  488.80  839.0\n",
              "NU_NOTA_CH        0.0  519.71  523.00  846.9\n",
              "NU_NOTA_LC        0.0  496.80  499.75  773.5\n",
              "NU_NOTA_MT        0.0  538.50  522.00  953.1\n",
              "NU_NOTA_REDACAO   0.0  592.53  600.00  980.0"
            ]
          },
          "execution_count": 25,
          "metadata": {},
          "output_type": "execute_result"
        }
      ],
      "source": [
        "subset_tp_sexo_m[provas].agg([np.min, np.mean, np.median, np.max]).T.round(2)"
      ]
    },
    {
      "cell_type": "code",
      "execution_count": null,
      "id": "9b7a9821-aa83-429d-8eb0-752d52af6de4",
      "metadata": {
        "id": "9b7a9821-aa83-429d-8eb0-752d52af6de4",
        "outputId": "003a6d62-4a78-4f62-8f5d-6427aebbf9e0"
      },
      "outputs": [
        {
          "data": {
            "text/html": [
              "<div>\n",
              "<style scoped>\n",
              "    .dataframe tbody tr th:only-of-type {\n",
              "        vertical-align: middle;\n",
              "    }\n",
              "\n",
              "    .dataframe tbody tr th {\n",
              "        vertical-align: top;\n",
              "    }\n",
              "\n",
              "    .dataframe thead th {\n",
              "        text-align: right;\n",
              "    }\n",
              "</style>\n",
              "<table border=\"1\" class=\"dataframe\">\n",
              "  <thead>\n",
              "    <tr style=\"text-align: right;\">\n",
              "      <th></th>\n",
              "      <th>amin</th>\n",
              "      <th>mean</th>\n",
              "      <th>median</th>\n",
              "      <th>amax</th>\n",
              "    </tr>\n",
              "  </thead>\n",
              "  <tbody>\n",
              "    <tr>\n",
              "      <th>NU_NOTA_CN</th>\n",
              "      <td>0.0</td>\n",
              "      <td>471.42</td>\n",
              "      <td>462.2</td>\n",
              "      <td>819.4</td>\n",
              "    </tr>\n",
              "    <tr>\n",
              "      <th>NU_NOTA_CH</th>\n",
              "      <td>0.0</td>\n",
              "      <td>498.83</td>\n",
              "      <td>493.4</td>\n",
              "      <td>832.5</td>\n",
              "    </tr>\n",
              "    <tr>\n",
              "      <th>NU_NOTA_LC</th>\n",
              "      <td>0.0</td>\n",
              "      <td>484.92</td>\n",
              "      <td>485.2</td>\n",
              "      <td>821.6</td>\n",
              "    </tr>\n",
              "    <tr>\n",
              "      <th>NU_NOTA_MT</th>\n",
              "      <td>0.0</td>\n",
              "      <td>499.77</td>\n",
              "      <td>478.2</td>\n",
              "      <td>944.1</td>\n",
              "    </tr>\n",
              "    <tr>\n",
              "      <th>NU_NOTA_REDACAO</th>\n",
              "      <td>0.0</td>\n",
              "      <td>613.83</td>\n",
              "      <td>600.0</td>\n",
              "      <td>1000.0</td>\n",
              "    </tr>\n",
              "  </tbody>\n",
              "</table>\n",
              "</div>"
            ],
            "text/plain": [
              "                 amin    mean  median    amax\n",
              "NU_NOTA_CN        0.0  471.42   462.2   819.4\n",
              "NU_NOTA_CH        0.0  498.83   493.4   832.5\n",
              "NU_NOTA_LC        0.0  484.92   485.2   821.6\n",
              "NU_NOTA_MT        0.0  499.77   478.2   944.1\n",
              "NU_NOTA_REDACAO   0.0  613.83   600.0  1000.0"
            ]
          },
          "execution_count": 24,
          "metadata": {},
          "output_type": "execute_result"
        }
      ],
      "source": [
        "subset_tp_sexo_f[provas].agg([np.min, np.mean, np.median, np.max]).T.round(2)"
      ]
    },
    {
      "cell_type": "markdown",
      "id": "e22e7567-cbca-43a8-aaa0-3a5c18da6a10",
      "metadata": {
        "id": "e22e7567-cbca-43a8-aaa0-3a5c18da6a10"
      },
      "source": [
        "* Qual foi o aluno que tirou a nota máxima/mínima?"
      ]
    },
    {
      "cell_type": "code",
      "execution_count": null,
      "id": "5c069c4b-8d6c-4368-a0df-de41b0d4a07e",
      "metadata": {
        "id": "5c069c4b-8d6c-4368-a0df-de41b0d4a07e",
        "outputId": "04cec23c-7fb9-4d82-9893-3425f32c4655"
      },
      "outputs": [
        {
          "data": {
            "text/plain": [
              "953.1"
            ]
          },
          "execution_count": 26,
          "metadata": {},
          "output_type": "execute_result"
        }
      ],
      "source": [
        "df.NU_NOTA_MT.max()"
      ]
    },
    {
      "cell_type": "code",
      "execution_count": null,
      "id": "01fba8c0-f5c4-45f9-a979-38b4221f80be",
      "metadata": {
        "id": "01fba8c0-f5c4-45f9-a979-38b4221f80be",
        "outputId": "0e291d69-49fe-46f6-a0a9-72c63c0190f9"
      },
      "outputs": [
        {
          "data": {
            "text/plain": [
              "55177"
            ]
          },
          "execution_count": 27,
          "metadata": {},
          "output_type": "execute_result"
        }
      ],
      "source": [
        "df.NU_NOTA_MT.idxmax()"
      ]
    },
    {
      "cell_type": "code",
      "execution_count": null,
      "id": "391f0dbb-6ff6-4911-8868-223af1a9bd9b",
      "metadata": {
        "id": "391f0dbb-6ff6-4911-8868-223af1a9bd9b",
        "outputId": "2ad1ad84-5be4-40b1-cba1-c4fb9dbf2ae6"
      },
      "outputs": [
        {
          "data": {
            "text/plain": [
              "NU_INSCRICAO                                                   210053912306\n",
              "NU_ANO                                                                 2021\n",
              "TP_FAIXA_ETARIA                                                           2\n",
              "TP_SEXO                                                                   M\n",
              "TP_ESTADO_CIVIL                                                           1\n",
              "TP_COR_RACA                                                               3\n",
              "TP_NACIONALIDADE                                                          1\n",
              "TP_ST_CONCLUSAO                                                           2\n",
              "TP_ANO_CONCLUIU                                                           0\n",
              "TP_ESCOLA                                                                 3\n",
              "TP_ENSINO                                                               1.0\n",
              "IN_TREINEIRO                                                              0\n",
              "CO_MUNICIPIO_ESC                                                  2933307.0\n",
              "NO_MUNICIPIO_ESC                                       Vitória da Conquista\n",
              "CO_UF_ESC                                                              29.0\n",
              "SG_UF_ESC                                                                BA\n",
              "TP_DEPENDENCIA_ADM_ESC                                                  4.0\n",
              "TP_LOCALIZACAO_ESC                                                      1.0\n",
              "TP_SIT_FUNC_ESC                                                         1.0\n",
              "CO_MUNICIPIO_PROVA                                                  2933307\n",
              "NO_MUNICIPIO_PROVA                                     Vitória da Conquista\n",
              "CO_UF_PROVA                                                              29\n",
              "SG_UF_PROVA                                                              BA\n",
              "TP_PRESENCA_CN                                                            1\n",
              "TP_PRESENCA_CH                                                            1\n",
              "TP_PRESENCA_LC                                                            1\n",
              "TP_PRESENCA_MT                                                            1\n",
              "CO_PROVA_CN                                                           909.0\n",
              "CO_PROVA_CH                                                           881.0\n",
              "CO_PROVA_LC                                                           892.0\n",
              "CO_PROVA_MT                                                           899.0\n",
              "NU_NOTA_CN                                                            611.0\n",
              "NU_NOTA_CH                                                            661.2\n",
              "NU_NOTA_LC                                                            621.8\n",
              "NU_NOTA_MT                                                            953.1\n",
              "TX_RESPOSTAS_CN               ADEDBBCCABCBCECDCDCEBEDCABBAECECDABDCDCCBACCB\n",
              "TX_RESPOSTAS_CH               BEECCAECBADAEADBAAEEDDEBBBADBCBBDBEBCEAECCDBE\n",
              "TX_RESPOSTAS_LC           ABEAC99999CDABDABEDCDCBDCDCBDDDBBEADCBEAAECBAA...\n",
              "TX_RESPOSTAS_MT               EEAEBABDDCECCBCCECDCAEBADEABBDBDEDCEDCCADDCAB\n",
              "TP_LINGUA                                                                 0\n",
              "TX_GABARITO_CN                EDECABEDABCBEBACCDCBBEEBBCBDAAECDCBDCDBBBADCD\n",
              "TX_GABARITO_CH                BEECCAEABADBCAEBAAEEDDEBBBADBCBAAEEBBBADCCBBA\n",
              "TX_GABARITO_LC            ABBACAAECACDBDDADEBDDCBDCEDBEDDBBBBDCEEAADABAC...\n",
              "TX_GABARITO_MT                EEXEBABDDCECCBCCECDCAEBADEABBDBDEDCEDCCADDCAB\n",
              "TP_STATUS_REDACAO                                                       1.0\n",
              "NU_NOTA_COMP1                                                         160.0\n",
              "NU_NOTA_COMP2                                                         200.0\n",
              "NU_NOTA_COMP3                                                         160.0\n",
              "NU_NOTA_COMP4                                                         180.0\n",
              "NU_NOTA_COMP5                                                         160.0\n",
              "NU_NOTA_REDACAO                                                       860.0\n",
              "Name: 55177, dtype: object"
            ]
          },
          "execution_count": 30,
          "metadata": {},
          "output_type": "execute_result"
        }
      ],
      "source": [
        "df.iloc[df.NU_NOTA_MT.idxmax(),]"
      ]
    },
    {
      "cell_type": "code",
      "execution_count": null,
      "id": "6426b263-830a-4d05-b01e-5c0c4180c6e0",
      "metadata": {
        "id": "6426b263-830a-4d05-b01e-5c0c4180c6e0",
        "outputId": "d2dc7930-a6a5-4542-c3cc-286cdb010f99"
      },
      "outputs": [
        {
          "data": {
            "text/plain": [
              "NU_INSCRICAO                                                   210053803513\n",
              "NU_ANO                                                                 2021\n",
              "TP_FAIXA_ETARIA                                                           3\n",
              "TP_SEXO                                                                   M\n",
              "TP_ESTADO_CIVIL                                                           1\n",
              "TP_COR_RACA                                                               3\n",
              "TP_NACIONALIDADE                                                          1\n",
              "TP_ST_CONCLUSAO                                                           2\n",
              "TP_ANO_CONCLUIU                                                           0\n",
              "TP_ESCOLA                                                                 2\n",
              "TP_ENSINO                                                               1.0\n",
              "IN_TREINEIRO                                                              0\n",
              "CO_MUNICIPIO_ESC                                                        NaN\n",
              "NO_MUNICIPIO_ESC                                                        NaN\n",
              "CO_UF_ESC                                                               NaN\n",
              "SG_UF_ESC                                                               NaN\n",
              "TP_DEPENDENCIA_ADM_ESC                                                  NaN\n",
              "TP_LOCALIZACAO_ESC                                                      NaN\n",
              "TP_SIT_FUNC_ESC                                                         NaN\n",
              "CO_MUNICIPIO_PROVA                                                  2913903\n",
              "NO_MUNICIPIO_PROVA                                                    Ipiaú\n",
              "CO_UF_PROVA                                                              29\n",
              "SG_UF_PROVA                                                              BA\n",
              "TP_PRESENCA_CN                                                            1\n",
              "TP_PRESENCA_CH                                                            1\n",
              "TP_PRESENCA_LC                                                            1\n",
              "TP_PRESENCA_MT                                                            1\n",
              "CO_PROVA_CN                                                           909.0\n",
              "CO_PROVA_CH                                                           881.0\n",
              "CO_PROVA_LC                                                           892.0\n",
              "CO_PROVA_MT                                                           899.0\n",
              "NU_NOTA_CN                                                            362.5\n",
              "NU_NOTA_CH                                                            669.7\n",
              "NU_NOTA_LC                                                            619.9\n",
              "NU_NOTA_MT                                                              0.0\n",
              "TX_RESPOSTAS_CN               AEDCAB..ABCD.C.BBA....C...DCE................\n",
              "TX_RESPOSTAS_CH               BBECCAEABADBCADCAAAEDBDBBBAABCBCBDBABBEDCCBBA\n",
              "TX_RESPOSTAS_LC           ABBAC99999CCBDEABEBDDCBDCEEBABDDBEADEEAAAD*DAC...\n",
              "TX_RESPOSTAS_MT               .............................................\n",
              "TP_LINGUA                                                                 0\n",
              "TX_GABARITO_CN                EDECABEDABCBEBACCDCBBEEBBCBDAAECDCBDCDBBBADCD\n",
              "TX_GABARITO_CH                BEECCAEABADBCAEBAAEEDDEBBBADBCBAAEEBBBADCCBBA\n",
              "TX_GABARITO_LC            ABBACAAECACDBDDADEBDDCBDCEDBEDDBBBBDCEEAADABAC...\n",
              "TX_GABARITO_MT                EEXEBABDDCECCBCCECDCAEBADEABBDBDEDCEDCCADDCAB\n",
              "TP_STATUS_REDACAO                                                       1.0\n",
              "NU_NOTA_COMP1                                                         120.0\n",
              "NU_NOTA_COMP2                                                         120.0\n",
              "NU_NOTA_COMP3                                                         120.0\n",
              "NU_NOTA_COMP4                                                         140.0\n",
              "NU_NOTA_COMP5                                                         180.0\n",
              "NU_NOTA_REDACAO                                                       680.0\n",
              "Name: 7951, dtype: object"
            ]
          },
          "execution_count": 31,
          "metadata": {},
          "output_type": "execute_result"
        }
      ],
      "source": [
        "df.iloc[df.NU_NOTA_MT.idxmin(),]"
      ]
    },
    {
      "cell_type": "markdown",
      "id": "8b91a232-f232-49de-a9bb-801b7fd7a241",
      "metadata": {
        "id": "8b91a232-f232-49de-a9bb-801b7fd7a241"
      },
      "source": [
        "* Nota mínima na redação"
      ]
    },
    {
      "cell_type": "markdown",
      "id": "bb907e91-682e-4105-ab48-e68151b85d57",
      "metadata": {
        "id": "bb907e91-682e-4105-ab48-e68151b85d57"
      },
      "source": [
        "O que representa o NaN em uma prova?"
      ]
    },
    {
      "cell_type": "code",
      "execution_count": null,
      "id": "ee6d0a5a-faf3-4d74-a009-4dca7e34d7ca",
      "metadata": {
        "id": "ee6d0a5a-faf3-4d74-a009-4dca7e34d7ca",
        "outputId": "57f0e0e6-e636-41cc-eb9e-e772943bd243"
      },
      "outputs": [
        {
          "data": {
            "text/plain": [
              "0"
            ]
          },
          "execution_count": 42,
          "metadata": {},
          "output_type": "execute_result"
        }
      ],
      "source": [
        "df[df.NU_NOTA_REDACAO.notna()].NU_NOTA_REDACAO.isna().sum()"
      ]
    },
    {
      "cell_type": "code",
      "execution_count": null,
      "id": "ec944f60-09a2-49f3-8924-847f2fc3baec",
      "metadata": {
        "id": "ec944f60-09a2-49f3-8924-847f2fc3baec"
      },
      "outputs": [],
      "source": [
        "mask_1 = df.NU_NOTA_REDACAO.notna()\n",
        "mask_2 = df.NU_NOTA_REDACAO != 0\n",
        "subset = df[(mask_1) & (mask_2)]"
      ]
    },
    {
      "cell_type": "code",
      "execution_count": null,
      "id": "9d405f0b-cfba-4b59-afbf-08202a364470",
      "metadata": {
        "id": "9d405f0b-cfba-4b59-afbf-08202a364470",
        "outputId": "1a152c42-5bd6-48d5-8f2f-8dcc7bda8f31"
      },
      "outputs": [
        {
          "data": {
            "text/plain": [
              "<Axes: ylabel='Frequency'>"
            ]
          },
          "execution_count": 47,
          "metadata": {},
          "output_type": "execute_result"
        },
        {
          "data": {
            "image/png": "[encoded data removed]",
            "text/plain": [
              "<Figure size 640x480 with 1 Axes>"
            ]
          },
          "metadata": {},
          "output_type": "display_data"
        }
      ],
      "source": [
        "df.NU_NOTA_REDACAO.plot(kind = 'hist')"
      ]
    },
    {
      "cell_type": "code",
      "execution_count": null,
      "id": "e5bde3f3-5a1b-4f56-921e-2462f7b115c1",
      "metadata": {
        "id": "e5bde3f3-5a1b-4f56-921e-2462f7b115c1",
        "outputId": "5a17f46f-30d0-47a2-8d15-33d83d574391"
      },
      "outputs": [
        {
          "data": {
            "text/plain": [
              "<Axes: >"
            ]
          },
          "execution_count": 46,
          "metadata": {},
          "output_type": "execute_result"
        },
        {
          "data": {
            "image/png": "[encoded data removed]",
            "text/plain": [
              "<Figure size 640x480 with 1 Axes>"
            ]
          },
          "metadata": {},
          "output_type": "display_data"
        }
      ],
      "source": [
        "df.NU_NOTA_REDACAO.plot(kind = 'box')"
      ]
    },
    {
      "cell_type": "code",
      "execution_count": null,
      "id": "302e7c8f-4aaf-45e4-9dac-928f69cbf5d8",
      "metadata": {
        "id": "302e7c8f-4aaf-45e4-9dac-928f69cbf5d8",
        "outputId": "843c26e2-505a-467a-a811-4da252706cd5"
      },
      "outputs": [
        {
          "data": {
            "text/plain": [
              "<Axes: ylabel='Frequency'>"
            ]
          },
          "execution_count": 48,
          "metadata": {},
          "output_type": "execute_result"
        },
        {
          "data": {
            "image/png": "[encoded data removed]",
            "text/plain": [
              "<Figure size 640x480 with 1 Axes>"
            ]
          },
          "metadata": {},
          "output_type": "display_data"
        }
      ],
      "source": [
        "subset.NU_NOTA_REDACAO.plot(kind = 'hist')"
      ]
    },
    {
      "cell_type": "code",
      "execution_count": null,
      "id": "2e4edeb3-ebb3-4a4a-a942-c3261891a989",
      "metadata": {
        "id": "2e4edeb3-ebb3-4a4a-a942-c3261891a989",
        "outputId": "e233790f-159c-4cb1-e617-c59e591d32b7"
      },
      "outputs": [
        {
          "data": {
            "text/plain": [
              "<Axes: >"
            ]
          },
          "execution_count": 45,
          "metadata": {},
          "output_type": "execute_result"
        },
        {
          "data": {
            "image/png": "[encoded data removed]",
            "text/plain": [
              "<Figure size 640x480 with 1 Axes>"
            ]
          },
          "metadata": {},
          "output_type": "display_data"
        }
      ],
      "source": [
        "subset.NU_NOTA_REDACAO.plot(kind = 'box')"
      ]
    },
    {
      "cell_type": "code",
      "execution_count": null,
      "id": "2236b1eb-d0a2-4ba3-8a0d-f2a6fa24a19a",
      "metadata": {
        "id": "2236b1eb-d0a2-4ba3-8a0d-f2a6fa24a19a",
        "outputId": "87c6b28a-6838-4e9c-9e6b-585cfb93963e"
      },
      "outputs": [
        {
          "data": {
            "text/plain": [
              "amin        40.000000\n",
              "mean       625.944838\n",
              "median     600.000000\n",
              "amax      1000.000000\n",
              "Name: NU_NOTA_REDACAO, dtype: float64"
            ]
          },
          "execution_count": 50,
          "metadata": {},
          "output_type": "execute_result"
        }
      ],
      "source": [
        "subset.NU_NOTA_REDACAO.agg([np.min, np.mean, np.median, np.max])"
      ]
    },
    {
      "cell_type": "markdown",
      "id": "d5238b1f-4a7c-4076-81cc-fb27fa3f926c",
      "metadata": {
        "id": "d5238b1f-4a7c-4076-81cc-fb27fa3f926c"
      },
      "source": [
        "* Axis na função de agregação"
      ]
    },
    {
      "cell_type": "code",
      "execution_count": null,
      "id": "d8493b2f-b697-47a7-8d55-68f929068040",
      "metadata": {
        "id": "d8493b2f-b697-47a7-8d55-68f929068040",
        "outputId": "088af2b8-4662-4e63-819b-5c7a0c922755"
      },
      "outputs": [
        {
          "data": {
            "text/plain": [
              "NU_NOTA_CN         479.939563\n",
              "NU_NOTA_CH         506.234466\n",
              "NU_NOTA_LC         489.131131\n",
              "NU_NOTA_MT         513.507987\n",
              "NU_NOTA_REDACAO    606.276969\n",
              "dtype: float64"
            ]
          },
          "execution_count": 52,
          "metadata": {},
          "output_type": "execute_result"
        }
      ],
      "source": [
        "df[provas].mean()"
      ]
    },
    {
      "cell_type": "code",
      "execution_count": null,
      "id": "88185753-c638-4356-8813-bb269b261da5",
      "metadata": {
        "id": "88185753-c638-4356-8813-bb269b261da5",
        "outputId": "e47470c4-3d65-4784-87c2-759740daccc3"
      },
      "outputs": [
        {
          "data": {
            "text/plain": [
              "NU_NOTA_CN         479.939563\n",
              "NU_NOTA_CH         506.234466\n",
              "NU_NOTA_LC         489.131131\n",
              "NU_NOTA_MT         513.507987\n",
              "NU_NOTA_REDACAO    606.276969\n",
              "dtype: float64"
            ]
          },
          "execution_count": 54,
          "metadata": {},
          "output_type": "execute_result"
        }
      ],
      "source": [
        "# média das colunas\n",
        "df[provas].mean(axis = 0)"
      ]
    },
    {
      "cell_type": "code",
      "execution_count": null,
      "id": "b5bbba1c-7ff9-42c0-bdf1-a0f22e351f84",
      "metadata": {
        "id": "b5bbba1c-7ff9-42c0-bdf1-a0f22e351f84",
        "outputId": "b7679d4e-3977-4165-80ac-5b94642be866"
      },
      "outputs": [
        {
          "data": {
            "text/plain": [
              "0         466.94\n",
              "1            NaN\n",
              "2         447.88\n",
              "3         562.10\n",
              "4         544.00\n",
              "           ...  \n",
              "266189       NaN\n",
              "266190       NaN\n",
              "266191       NaN\n",
              "266192       NaN\n",
              "266193       NaN\n",
              "Length: 266194, dtype: float64"
            ]
          },
          "execution_count": 56,
          "metadata": {},
          "output_type": "execute_result"
        }
      ],
      "source": [
        "# média dos alunos\n",
        "df[provas].mean(axis = 1)"
      ]
    },
    {
      "cell_type": "code",
      "execution_count": null,
      "id": "b6ca82d1-633e-4993-b55e-f4ae3a4c3506",
      "metadata": {
        "id": "b6ca82d1-633e-4993-b55e-f4ae3a4c3506",
        "outputId": "8947e1f1-d117-4a28-f6cc-50ca21e1b3cd"
      },
      "outputs": [
        {
          "data": {
            "text/plain": [
              "0         466.94\n",
              "1            NaN\n",
              "2         447.88\n",
              "3         562.10\n",
              "4         544.00\n",
              "           ...  \n",
              "266189       NaN\n",
              "266190       NaN\n",
              "266191       NaN\n",
              "266192       NaN\n",
              "266193       NaN\n",
              "Length: 266194, dtype: float64"
            ]
          },
          "execution_count": 58,
          "metadata": {},
          "output_type": "execute_result"
        }
      ],
      "source": [
        "(df.NU_NOTA_CH+df.NU_NOTA_LC+df.NU_NOTA_MT+df.NU_NOTA_CN+df.NU_NOTA_REDACAO) / 5"
      ]
    },
    {
      "cell_type": "markdown",
      "id": "14735fd1-0e7a-4c27-938f-74112ee0d059",
      "metadata": {
        "id": "14735fd1-0e7a-4c27-938f-74112ee0d059"
      },
      "source": [
        "* Missing\n",
        "\n",
        "Imputar missing : `.fillna()`"
      ]
    },
    {
      "cell_type": "code",
      "execution_count": null,
      "id": "3d018b03-0066-4aac-8f1c-3165eea41b8d",
      "metadata": {
        "id": "3d018b03-0066-4aac-8f1c-3165eea41b8d"
      },
      "outputs": [],
      "source": [
        "# missing simbólico\n",
        "# -1\n",
        "df_copy = df.copy()\n",
        "df_copy['MEAN'] = df[provas].mean(axis = 1)"
      ]
    },
    {
      "cell_type": "code",
      "execution_count": null,
      "id": "0586c365-2246-46e0-9a3f-ca341fef48c8",
      "metadata": {
        "id": "0586c365-2246-46e0-9a3f-ca341fef48c8",
        "outputId": "803a9b5e-5b13-410d-b9cc-771fd2a041b2"
      },
      "outputs": [
        {
          "data": {
            "text/plain": [
              "0         466.94\n",
              "1          -1.00\n",
              "2         447.88\n",
              "3         562.10\n",
              "4         544.00\n",
              "           ...  \n",
              "266189     -1.00\n",
              "266190     -1.00\n",
              "266191     -1.00\n",
              "266192     -1.00\n",
              "266193     -1.00\n",
              "Name: MEAN, Length: 266194, dtype: float64"
            ]
          },
          "execution_count": 68,
          "metadata": {},
          "output_type": "execute_result"
        }
      ],
      "source": [
        "df_copy.MEAN.fillna(-1)"
      ]
    },
    {
      "cell_type": "markdown",
      "id": "5cb3f34f-9ad6-4e24-ab36-4c0687fffacc",
      "metadata": {
        "id": "5cb3f34f-9ad6-4e24-ab36-4c0687fffacc"
      },
      "source": [
        "Imputar pela média"
      ]
    },
    {
      "cell_type": "code",
      "execution_count": null,
      "id": "08a853d8-7c4c-4a06-8281-7830aa0e2455",
      "metadata": {
        "id": "08a853d8-7c4c-4a06-8281-7830aa0e2455"
      },
      "outputs": [],
      "source": [
        "mean = np.mean(df_copy.MEAN)"
      ]
    },
    {
      "cell_type": "code",
      "execution_count": null,
      "id": "0a0b6f12-b74f-41d3-9e05-28d6f73148a5",
      "metadata": {
        "id": "0a0b6f12-b74f-41d3-9e05-28d6f73148a5",
        "outputId": "e78cdaad-ed51-4a52-930c-a88b3af9d287"
      },
      "outputs": [
        {
          "data": {
            "text/plain": [
              "<Axes: >"
            ]
          },
          "execution_count": 73,
          "metadata": {},
          "output_type": "execute_result"
        },
        {
          "data": {
            "image/png": "[encoded data removed]",
            "text/plain": [
              "<Figure size 640x480 with 1 Axes>"
            ]
          },
          "metadata": {},
          "output_type": "display_data"
        }
      ],
      "source": [
        "df_copy.MEAN.hist()"
      ]
    },
    {
      "cell_type": "code",
      "execution_count": null,
      "id": "1ab364b5-626c-4f80-899a-65568cbfb65b",
      "metadata": {
        "id": "1ab364b5-626c-4f80-899a-65568cbfb65b",
        "outputId": "043ef762-38d7-41c7-b198-ce2a6d9bf36b"
      },
      "outputs": [
        {
          "data": {
            "text/plain": [
              "<Axes: >"
            ]
          },
          "execution_count": 74,
          "metadata": {},
          "output_type": "execute_result"
        },
        {
          "data": {
            "image/png": "[encoded data removed]",
            "text/plain": [
              "<Figure size 640x480 with 1 Axes>"
            ]
          },
          "metadata": {},
          "output_type": "display_data"
        }
      ],
      "source": [
        "df_copy.MEAN.fillna(mean).hist()"
      ]
    },
    {
      "cell_type": "markdown",
      "id": "842fd964-a66a-44c1-9845-c0cab91ef016",
      "metadata": {
        "id": "842fd964-a66a-44c1-9845-c0cab91ef016"
      },
      "source": [
        "Imputar pela mediana"
      ]
    },
    {
      "cell_type": "code",
      "execution_count": null,
      "id": "1b8fe67e-5b38-492e-a333-da1c7f2bbdd6",
      "metadata": {
        "id": "1b8fe67e-5b38-492e-a333-da1c7f2bbdd6",
        "outputId": "82327438-356f-4883-938d-9a74fa20fda1"
      },
      "outputs": [
        {
          "data": {
            "text/plain": [
              "509.26000000000005"
            ]
          },
          "execution_count": 75,
          "metadata": {},
          "output_type": "execute_result"
        }
      ],
      "source": [
        "df_copy.MEAN.median()"
      ]
    },
    {
      "cell_type": "code",
      "execution_count": null,
      "id": "08fcfe3a-56bf-4a00-8a91-04817e0b2e14",
      "metadata": {
        "id": "08fcfe3a-56bf-4a00-8a91-04817e0b2e14"
      },
      "outputs": [],
      "source": [
        "median = df_copy.MEAN.median()"
      ]
    },
    {
      "cell_type": "code",
      "execution_count": null,
      "id": "0d732b83-5eea-4bf6-9a55-2971f9f49359",
      "metadata": {
        "id": "0d732b83-5eea-4bf6-9a55-2971f9f49359",
        "outputId": "42e9f87c-0dba-46c7-ddd6-cdc5d903bfc2"
      },
      "outputs": [
        {
          "data": {
            "text/plain": [
              "0         466.94\n",
              "1         509.26\n",
              "2         447.88\n",
              "3         562.10\n",
              "4         544.00\n",
              "           ...  \n",
              "266189    509.26\n",
              "266190    509.26\n",
              "266191    509.26\n",
              "266192    509.26\n",
              "266193    509.26\n",
              "Name: MEAN, Length: 266194, dtype: float64"
            ]
          },
          "execution_count": 77,
          "metadata": {},
          "output_type": "execute_result"
        }
      ],
      "source": [
        "df_copy.MEAN.fillna(median)"
      ]
    },
    {
      "cell_type": "markdown",
      "id": "29ab9869-f596-4161-8a9a-9eec99d2e9ce",
      "metadata": {
        "id": "29ab9869-f596-4161-8a9a-9eec99d2e9ce"
      },
      "source": [
        "* Agrupamento"
      ]
    },
    {
      "cell_type": "markdown",
      "id": "1f8907e6-5bf3-4214-aa2b-326e2035537f",
      "metadata": {
        "id": "1f8907e6-5bf3-4214-aa2b-326e2035537f"
      },
      "source": [
        "Qual a proporção entre os gêneros?"
      ]
    },
    {
      "cell_type": "code",
      "execution_count": null,
      "id": "ad82cf56-36dd-4b7c-ad96-08db9845d4f3",
      "metadata": {
        "id": "ad82cf56-36dd-4b7c-ad96-08db9845d4f3",
        "outputId": "a3287041-5efd-4b17-cb9d-5e8468912187"
      },
      "outputs": [
        {
          "data": {
            "text/plain": [
              "F    171997\n",
              "M     94197\n",
              "Name: TP_SEXO, dtype: int64"
            ]
          },
          "execution_count": 79,
          "metadata": {},
          "output_type": "execute_result"
        }
      ],
      "source": [
        "df.TP_SEXO.value_counts()"
      ]
    },
    {
      "cell_type": "code",
      "execution_count": null,
      "id": "06dad388-cfb0-486b-8cb8-9d641944d663",
      "metadata": {
        "id": "06dad388-cfb0-486b-8cb8-9d641944d663",
        "outputId": "089c1299-dbe5-4530-fd11-b189841ecab5"
      },
      "outputs": [
        {
          "data": {
            "text/plain": [
              "TP_SEXO\n",
              "F    171997\n",
              "M     94197\n",
              "Name: NU_INSCRICAO, dtype: int64"
            ]
          },
          "execution_count": 81,
          "metadata": {},
          "output_type": "execute_result"
        }
      ],
      "source": [
        "df.groupby(by = ['TP_SEXO'])['NU_INSCRICAO'].count()"
      ]
    },
    {
      "cell_type": "code",
      "execution_count": null,
      "id": "e1ba48fd-a31e-457e-b800-a524707d0ae7",
      "metadata": {
        "id": "e1ba48fd-a31e-457e-b800-a524707d0ae7",
        "outputId": "db7ddfc8-4ea4-4b09-8951-5ce903468861"
      },
      "outputs": [
        {
          "data": {
            "text/plain": [
              "1    177170\n",
              "2     76984\n",
              "3     12040\n",
              "Name: TP_ESCOLA, dtype: int64"
            ]
          },
          "execution_count": 83,
          "metadata": {},
          "output_type": "execute_result"
        }
      ],
      "source": [
        "df.TP_ESCOLA.value_counts()"
      ]
    },
    {
      "cell_type": "code",
      "execution_count": null,
      "id": "889feb10-efa1-4ffe-a3c6-49aa433352d4",
      "metadata": {
        "id": "889feb10-efa1-4ffe-a3c6-49aa433352d4",
        "outputId": "dbe661a9-61b6-482b-c580-c17440f5fffb"
      },
      "outputs": [
        {
          "data": {
            "text/plain": [
              "TP_SEXO  TP_ESCOLA\n",
              "F        1            114715\n",
              "         2             50561\n",
              "         3              6721\n",
              "M        1             62455\n",
              "         2             26423\n",
              "         3              5319\n",
              "Name: NU_INSCRICAO, dtype: int64"
            ]
          },
          "execution_count": 84,
          "metadata": {},
          "output_type": "execute_result"
        }
      ],
      "source": [
        "df.groupby(by = ['TP_SEXO', 'TP_ESCOLA'])['NU_INSCRICAO'].count()"
      ]
    },
    {
      "cell_type": "markdown",
      "id": "e15b642a-e119-4779-8f6a-d486d3ef6322",
      "metadata": {
        "id": "e15b642a-e119-4779-8f6a-d486d3ef6322"
      },
      "source": [
        "Qual a distribuição de frequência dos alunos por tipo de escola?"
      ]
    },
    {
      "cell_type": "code",
      "execution_count": null,
      "id": "5d2d5434-8036-4da6-800a-24261b09175a",
      "metadata": {
        "id": "5d2d5434-8036-4da6-800a-24261b09175a",
        "outputId": "62e0bcd3-cc52-495a-cffd-a408ad2edfb7"
      },
      "outputs": [
        {
          "data": {
            "text/plain": [
              "TP_ESCOLA\n",
              "1    177170\n",
              "2     76984\n",
              "3     12040\n",
              "Name: NU_INSCRICAO, dtype: int64"
            ]
          },
          "execution_count": 87,
          "metadata": {},
          "output_type": "execute_result"
        }
      ],
      "source": [
        "df.groupby(by = ['TP_ESCOLA'])['NU_INSCRICAO'].count().sort_index()"
      ]
    },
    {
      "cell_type": "markdown",
      "id": "ae0b0747-658a-4e82-9b77-3e6230f2c45b",
      "metadata": {
        "id": "ae0b0747-658a-4e82-9b77-3e6230f2c45b"
      },
      "source": [
        "Qual o desempenho em Matemática por tipo de escola?"
      ]
    },
    {
      "cell_type": "code",
      "execution_count": null,
      "id": "846487c1-28f9-4a14-b856-1b6364ffa118",
      "metadata": {
        "id": "846487c1-28f9-4a14-b856-1b6364ffa118",
        "outputId": "a06d14e7-45c0-48d9-fcce-1bd4e015936c"
      },
      "outputs": [
        {
          "data": {
            "text/plain": [
              "TP_ESCOLA\n",
              "1    519.016313\n",
              "2    487.375050\n",
              "3    579.833900\n",
              "Name: NU_NOTA_MT, dtype: float64"
            ]
          },
          "execution_count": 88,
          "metadata": {},
          "output_type": "execute_result"
        }
      ],
      "source": [
        "df.groupby(by = ['TP_ESCOLA'])['NU_NOTA_MT'].mean()"
      ]
    },
    {
      "cell_type": "code",
      "execution_count": null,
      "id": "1dac325b-7ae5-4f4f-a412-fe484a99d135",
      "metadata": {
        "id": "1dac325b-7ae5-4f4f-a412-fe484a99d135",
        "outputId": "4832ae26-7127-4aa2-ae46-8c84f7f68dc0"
      },
      "outputs": [
        {
          "data": {
            "text/html": [
              "<div>\n",
              "<style scoped>\n",
              "    .dataframe tbody tr th:only-of-type {\n",
              "        vertical-align: middle;\n",
              "    }\n",
              "\n",
              "    .dataframe tbody tr th {\n",
              "        vertical-align: top;\n",
              "    }\n",
              "\n",
              "    .dataframe thead th {\n",
              "        text-align: right;\n",
              "    }\n",
              "</style>\n",
              "<table border=\"1\" class=\"dataframe\">\n",
              "  <thead>\n",
              "    <tr style=\"text-align: right;\">\n",
              "      <th></th>\n",
              "      <th>NU_NOTA_MT</th>\n",
              "      <th>NU_NOTA_CN</th>\n",
              "    </tr>\n",
              "    <tr>\n",
              "      <th>TP_ESCOLA</th>\n",
              "      <th></th>\n",
              "      <th></th>\n",
              "    </tr>\n",
              "  </thead>\n",
              "  <tbody>\n",
              "    <tr>\n",
              "      <th>1</th>\n",
              "      <td>519.016313</td>\n",
              "      <td>485.694886</td>\n",
              "    </tr>\n",
              "    <tr>\n",
              "      <th>2</th>\n",
              "      <td>487.375050</td>\n",
              "      <td>458.415743</td>\n",
              "    </tr>\n",
              "    <tr>\n",
              "      <th>3</th>\n",
              "      <td>579.833900</td>\n",
              "      <td>522.752945</td>\n",
              "    </tr>\n",
              "  </tbody>\n",
              "</table>\n",
              "</div>"
            ],
            "text/plain": [
              "           NU_NOTA_MT  NU_NOTA_CN\n",
              "TP_ESCOLA                        \n",
              "1          519.016313  485.694886\n",
              "2          487.375050  458.415743\n",
              "3          579.833900  522.752945"
            ]
          },
          "execution_count": 89,
          "metadata": {},
          "output_type": "execute_result"
        }
      ],
      "source": [
        "df.groupby(by = ['TP_ESCOLA'])[['NU_NOTA_MT', 'NU_NOTA_CN']].mean()"
      ]
    },
    {
      "cell_type": "code",
      "execution_count": null,
      "id": "ba49c2c6-4cc9-4191-ad69-8f3db10d9bb1",
      "metadata": {
        "id": "ba49c2c6-4cc9-4191-ad69-8f3db10d9bb1",
        "outputId": "f78cccd2-97e9-4c9d-f488-1361175974b0"
      },
      "outputs": [
        {
          "data": {
            "text/html": [
              "<div>\n",
              "<style scoped>\n",
              "    .dataframe tbody tr th:only-of-type {\n",
              "        vertical-align: middle;\n",
              "    }\n",
              "\n",
              "    .dataframe tbody tr th {\n",
              "        vertical-align: top;\n",
              "    }\n",
              "\n",
              "    .dataframe thead th {\n",
              "        text-align: right;\n",
              "    }\n",
              "</style>\n",
              "<table border=\"1\" class=\"dataframe\">\n",
              "  <thead>\n",
              "    <tr style=\"text-align: right;\">\n",
              "      <th></th>\n",
              "      <th>TP_ESCOLA</th>\n",
              "      <th>1</th>\n",
              "      <th>2</th>\n",
              "      <th>3</th>\n",
              "    </tr>\n",
              "  </thead>\n",
              "  <tbody>\n",
              "    <tr>\n",
              "      <th rowspan=\"5\" valign=\"top\">NU_NOTA_MT</th>\n",
              "      <th>amin</th>\n",
              "      <td>0.000000</td>\n",
              "      <td>0.000000</td>\n",
              "      <td>0.000000</td>\n",
              "    </tr>\n",
              "    <tr>\n",
              "      <th>median</th>\n",
              "      <td>497.800000</td>\n",
              "      <td>468.900000</td>\n",
              "      <td>581.600000</td>\n",
              "    </tr>\n",
              "    <tr>\n",
              "      <th>mean</th>\n",
              "      <td>519.016313</td>\n",
              "      <td>487.375050</td>\n",
              "      <td>579.833900</td>\n",
              "    </tr>\n",
              "    <tr>\n",
              "      <th>std</th>\n",
              "      <td>103.686183</td>\n",
              "      <td>83.768416</td>\n",
              "      <td>110.520092</td>\n",
              "    </tr>\n",
              "    <tr>\n",
              "      <th>amax</th>\n",
              "      <td>953.100000</td>\n",
              "      <td>929.800000</td>\n",
              "      <td>953.100000</td>\n",
              "    </tr>\n",
              "    <tr>\n",
              "      <th rowspan=\"5\" valign=\"top\">NU_NOTA_CN</th>\n",
              "      <th>amin</th>\n",
              "      <td>0.000000</td>\n",
              "      <td>0.000000</td>\n",
              "      <td>340.100000</td>\n",
              "    </tr>\n",
              "    <tr>\n",
              "      <th>median</th>\n",
              "      <td>476.500000</td>\n",
              "      <td>451.700000</td>\n",
              "      <td>523.100000</td>\n",
              "    </tr>\n",
              "    <tr>\n",
              "      <th>mean</th>\n",
              "      <td>485.694886</td>\n",
              "      <td>458.415743</td>\n",
              "      <td>522.752945</td>\n",
              "    </tr>\n",
              "    <tr>\n",
              "      <th>std</th>\n",
              "      <td>76.762272</td>\n",
              "      <td>63.182395</td>\n",
              "      <td>79.613322</td>\n",
              "    </tr>\n",
              "    <tr>\n",
              "      <th>amax</th>\n",
              "      <td>839.000000</td>\n",
              "      <td>819.400000</td>\n",
              "      <td>796.300000</td>\n",
              "    </tr>\n",
              "  </tbody>\n",
              "</table>\n",
              "</div>"
            ],
            "text/plain": [
              "TP_ESCOLA                   1           2           3\n",
              "NU_NOTA_MT amin      0.000000    0.000000    0.000000\n",
              "           median  497.800000  468.900000  581.600000\n",
              "           mean    519.016313  487.375050  579.833900\n",
              "           std     103.686183   83.768416  110.520092\n",
              "           amax    953.100000  929.800000  953.100000\n",
              "NU_NOTA_CN amin      0.000000    0.000000  340.100000\n",
              "           median  476.500000  451.700000  523.100000\n",
              "           mean    485.694886  458.415743  522.752945\n",
              "           std      76.762272   63.182395   79.613322\n",
              "           amax    839.000000  819.400000  796.300000"
            ]
          },
          "execution_count": 91,
          "metadata": {},
          "output_type": "execute_result"
        }
      ],
      "source": [
        "df.groupby(by = ['TP_ESCOLA'])[['NU_NOTA_MT', 'NU_NOTA_CN']].agg([np.min, np.median, np.mean, np.std, np.max]).T"
      ]
    },
    {
      "cell_type": "code",
      "execution_count": null,
      "id": "5dfa7566-de65-49cc-bbc8-282df9c152ef",
      "metadata": {
        "id": "5dfa7566-de65-49cc-bbc8-282df9c152ef",
        "outputId": "d02c3eec-db05-49cb-8c45-9c119070ff4d"
      },
      "outputs": [
        {
          "data": {
            "text/html": [
              "<div>\n",
              "<style scoped>\n",
              "    .dataframe tbody tr th:only-of-type {\n",
              "        vertical-align: middle;\n",
              "    }\n",
              "\n",
              "    .dataframe tbody tr th {\n",
              "        vertical-align: top;\n",
              "    }\n",
              "\n",
              "    .dataframe thead th {\n",
              "        text-align: right;\n",
              "    }\n",
              "</style>\n",
              "<table border=\"1\" class=\"dataframe\">\n",
              "  <thead>\n",
              "    <tr style=\"text-align: right;\">\n",
              "      <th></th>\n",
              "      <th>TP_ESCOLA</th>\n",
              "      <th>1</th>\n",
              "      <th>2</th>\n",
              "      <th>3</th>\n",
              "    </tr>\n",
              "  </thead>\n",
              "  <tbody>\n",
              "    <tr>\n",
              "      <th rowspan=\"5\" valign=\"top\">NU_NOTA_MT</th>\n",
              "      <th>amin</th>\n",
              "      <td>0.000000</td>\n",
              "      <td>0.000000</td>\n",
              "      <td>0.000000</td>\n",
              "    </tr>\n",
              "    <tr>\n",
              "      <th>median</th>\n",
              "      <td>497.800000</td>\n",
              "      <td>468.900000</td>\n",
              "      <td>581.600000</td>\n",
              "    </tr>\n",
              "    <tr>\n",
              "      <th>mean</th>\n",
              "      <td>519.016313</td>\n",
              "      <td>487.375050</td>\n",
              "      <td>579.833900</td>\n",
              "    </tr>\n",
              "    <tr>\n",
              "      <th>std</th>\n",
              "      <td>103.686183</td>\n",
              "      <td>83.768416</td>\n",
              "      <td>110.520092</td>\n",
              "    </tr>\n",
              "    <tr>\n",
              "      <th>amax</th>\n",
              "      <td>953.100000</td>\n",
              "      <td>929.800000</td>\n",
              "      <td>953.100000</td>\n",
              "    </tr>\n",
              "    <tr>\n",
              "      <th rowspan=\"5\" valign=\"top\">NU_NOTA_CN</th>\n",
              "      <th>amin</th>\n",
              "      <td>0.000000</td>\n",
              "      <td>0.000000</td>\n",
              "      <td>340.100000</td>\n",
              "    </tr>\n",
              "    <tr>\n",
              "      <th>median</th>\n",
              "      <td>476.500000</td>\n",
              "      <td>451.700000</td>\n",
              "      <td>523.100000</td>\n",
              "    </tr>\n",
              "    <tr>\n",
              "      <th>mean</th>\n",
              "      <td>485.694886</td>\n",
              "      <td>458.415743</td>\n",
              "      <td>522.752945</td>\n",
              "    </tr>\n",
              "    <tr>\n",
              "      <th>std</th>\n",
              "      <td>76.762272</td>\n",
              "      <td>63.182395</td>\n",
              "      <td>79.613322</td>\n",
              "    </tr>\n",
              "    <tr>\n",
              "      <th>amax</th>\n",
              "      <td>839.000000</td>\n",
              "      <td>819.400000</td>\n",
              "      <td>796.300000</td>\n",
              "    </tr>\n",
              "  </tbody>\n",
              "</table>\n",
              "</div>"
            ],
            "text/plain": [
              "TP_ESCOLA                   1           2           3\n",
              "NU_NOTA_MT amin      0.000000    0.000000    0.000000\n",
              "           median  497.800000  468.900000  581.600000\n",
              "           mean    519.016313  487.375050  579.833900\n",
              "           std     103.686183   83.768416  110.520092\n",
              "           amax    953.100000  929.800000  953.100000\n",
              "NU_NOTA_CN amin      0.000000    0.000000  340.100000\n",
              "           median  476.500000  451.700000  523.100000\n",
              "           mean    485.694886  458.415743  522.752945\n",
              "           std      76.762272   63.182395   79.613322\n",
              "           amax    839.000000  819.400000  796.300000"
            ]
          },
          "execution_count": 92,
          "metadata": {},
          "output_type": "execute_result"
        }
      ],
      "source": [
        "(\n",
        "    df\n",
        "    .groupby(by = ['TP_ESCOLA'])[['NU_NOTA_MT', 'NU_NOTA_CN']]\n",
        "    .agg([np.min, np.median, np.mean, np.std, np.max])\n",
        "    .T\n",
        ")"
      ]
    },
    {
      "cell_type": "code",
      "execution_count": null,
      "id": "237e1267-56ec-4ae8-8d41-50082532caa3",
      "metadata": {
        "id": "237e1267-56ec-4ae8-8d41-50082532caa3",
        "outputId": "cf167b86-e0ae-41df-92dd-9e0384bbcbdd"
      },
      "outputs": [
        {
          "data": {
            "text/html": [
              "<div>\n",
              "<style scoped>\n",
              "    .dataframe tbody tr th:only-of-type {\n",
              "        vertical-align: middle;\n",
              "    }\n",
              "\n",
              "    .dataframe tbody tr th {\n",
              "        vertical-align: top;\n",
              "    }\n",
              "\n",
              "    .dataframe thead tr th {\n",
              "        text-align: left;\n",
              "    }\n",
              "\n",
              "    .dataframe thead tr:last-of-type th {\n",
              "        text-align: right;\n",
              "    }\n",
              "</style>\n",
              "<table border=\"1\" class=\"dataframe\">\n",
              "  <thead>\n",
              "    <tr>\n",
              "      <th></th>\n",
              "      <th colspan=\"2\" halign=\"left\">NU_NOTA_MT</th>\n",
              "      <th colspan=\"2\" halign=\"left\">NU_NOTA_CN</th>\n",
              "    </tr>\n",
              "    <tr>\n",
              "      <th></th>\n",
              "      <th>mean</th>\n",
              "      <th>median</th>\n",
              "      <th>amin</th>\n",
              "      <th>amax</th>\n",
              "    </tr>\n",
              "    <tr>\n",
              "      <th>TP_ESCOLA</th>\n",
              "      <th></th>\n",
              "      <th></th>\n",
              "      <th></th>\n",
              "      <th></th>\n",
              "    </tr>\n",
              "  </thead>\n",
              "  <tbody>\n",
              "    <tr>\n",
              "      <th>1</th>\n",
              "      <td>519.016313</td>\n",
              "      <td>497.8</td>\n",
              "      <td>0.0</td>\n",
              "      <td>839.0</td>\n",
              "    </tr>\n",
              "    <tr>\n",
              "      <th>2</th>\n",
              "      <td>487.375050</td>\n",
              "      <td>468.9</td>\n",
              "      <td>0.0</td>\n",
              "      <td>819.4</td>\n",
              "    </tr>\n",
              "    <tr>\n",
              "      <th>3</th>\n",
              "      <td>579.833900</td>\n",
              "      <td>581.6</td>\n",
              "      <td>340.1</td>\n",
              "      <td>796.3</td>\n",
              "    </tr>\n",
              "  </tbody>\n",
              "</table>\n",
              "</div>"
            ],
            "text/plain": [
              "           NU_NOTA_MT        NU_NOTA_CN       \n",
              "                 mean median       amin   amax\n",
              "TP_ESCOLA                                     \n",
              "1          519.016313  497.8        0.0  839.0\n",
              "2          487.375050  468.9        0.0  819.4\n",
              "3          579.833900  581.6      340.1  796.3"
            ]
          },
          "execution_count": 93,
          "metadata": {},
          "output_type": "execute_result"
        }
      ],
      "source": [
        "(\n",
        "    df.groupby(by = ['TP_ESCOLA'])\n",
        "    .agg({\n",
        "        'NU_NOTA_MT' : [np.mean, np.median],\n",
        "        'NU_NOTA_CN' : [np.min, np.max]\n",
        "    }\n",
        "    )\n",
        ")"
      ]
    },
    {
      "cell_type": "markdown",
      "id": "09248401-cdf5-4ee3-83f2-b4c74886b1b7",
      "metadata": {
        "id": "09248401-cdf5-4ee3-83f2-b4c74886b1b7"
      },
      "source": [
        "* Nota média por município"
      ]
    },
    {
      "cell_type": "code",
      "execution_count": null,
      "id": "732ec2b1-3c14-475a-b1d4-6455e0e7412e",
      "metadata": {
        "id": "732ec2b1-3c14-475a-b1d4-6455e0e7412e",
        "outputId": "f44f6146-b3c9-408f-d708-f03df94f32e5"
      },
      "outputs": [
        {
          "data": {
            "text/html": [
              "<div>\n",
              "<style scoped>\n",
              "    .dataframe tbody tr th:only-of-type {\n",
              "        vertical-align: middle;\n",
              "    }\n",
              "\n",
              "    .dataframe tbody tr th {\n",
              "        vertical-align: top;\n",
              "    }\n",
              "\n",
              "    .dataframe thead th {\n",
              "        text-align: right;\n",
              "    }\n",
              "</style>\n",
              "<table border=\"1\" class=\"dataframe\">\n",
              "  <thead>\n",
              "    <tr style=\"text-align: right;\">\n",
              "      <th></th>\n",
              "      <th>NU_INSCRICAO</th>\n",
              "      <th>NU_ANO</th>\n",
              "      <th>TP_FAIXA_ETARIA</th>\n",
              "      <th>TP_SEXO</th>\n",
              "      <th>TP_ESTADO_CIVIL</th>\n",
              "      <th>TP_COR_RACA</th>\n",
              "      <th>TP_NACIONALIDADE</th>\n",
              "      <th>TP_ST_CONCLUSAO</th>\n",
              "      <th>TP_ANO_CONCLUIU</th>\n",
              "      <th>TP_ESCOLA</th>\n",
              "      <th>TP_ENSINO</th>\n",
              "      <th>IN_TREINEIRO</th>\n",
              "      <th>CO_MUNICIPIO_ESC</th>\n",
              "      <th>NO_MUNICIPIO_ESC</th>\n",
              "      <th>CO_UF_ESC</th>\n",
              "      <th>SG_UF_ESC</th>\n",
              "      <th>TP_DEPENDENCIA_ADM_ESC</th>\n",
              "      <th>TP_LOCALIZACAO_ESC</th>\n",
              "      <th>TP_SIT_FUNC_ESC</th>\n",
              "      <th>CO_MUNICIPIO_PROVA</th>\n",
              "      <th>NO_MUNICIPIO_PROVA</th>\n",
              "      <th>CO_UF_PROVA</th>\n",
              "      <th>SG_UF_PROVA</th>\n",
              "      <th>TP_PRESENCA_CN</th>\n",
              "      <th>TP_PRESENCA_CH</th>\n",
              "      <th>TP_PRESENCA_LC</th>\n",
              "      <th>TP_PRESENCA_MT</th>\n",
              "      <th>CO_PROVA_CN</th>\n",
              "      <th>CO_PROVA_CH</th>\n",
              "      <th>CO_PROVA_LC</th>\n",
              "      <th>CO_PROVA_MT</th>\n",
              "      <th>NU_NOTA_CN</th>\n",
              "      <th>NU_NOTA_CH</th>\n",
              "      <th>NU_NOTA_LC</th>\n",
              "      <th>NU_NOTA_MT</th>\n",
              "      <th>TX_RESPOSTAS_CN</th>\n",
              "      <th>TX_RESPOSTAS_CH</th>\n",
              "      <th>TX_RESPOSTAS_LC</th>\n",
              "      <th>TX_RESPOSTAS_MT</th>\n",
              "      <th>TP_LINGUA</th>\n",
              "      <th>TX_GABARITO_CN</th>\n",
              "      <th>TX_GABARITO_CH</th>\n",
              "      <th>TX_GABARITO_LC</th>\n",
              "      <th>TX_GABARITO_MT</th>\n",
              "      <th>TP_STATUS_REDACAO</th>\n",
              "      <th>NU_NOTA_COMP1</th>\n",
              "      <th>NU_NOTA_COMP2</th>\n",
              "      <th>NU_NOTA_COMP3</th>\n",
              "      <th>NU_NOTA_COMP4</th>\n",
              "      <th>NU_NOTA_COMP5</th>\n",
              "      <th>NU_NOTA_REDACAO</th>\n",
              "      <th>MEAN</th>\n",
              "    </tr>\n",
              "  </thead>\n",
              "  <tbody>\n",
              "    <tr>\n",
              "      <th>0</th>\n",
              "      <td>210051128744</td>\n",
              "      <td>2021</td>\n",
              "      <td>4</td>\n",
              "      <td>F</td>\n",
              "      <td>1</td>\n",
              "      <td>3</td>\n",
              "      <td>1</td>\n",
              "      <td>2</td>\n",
              "      <td>0</td>\n",
              "      <td>2</td>\n",
              "      <td>1.0</td>\n",
              "      <td>0</td>\n",
              "      <td>NaN</td>\n",
              "      <td>NaN</td>\n",
              "      <td>NaN</td>\n",
              "      <td>NaN</td>\n",
              "      <td>NaN</td>\n",
              "      <td>NaN</td>\n",
              "      <td>NaN</td>\n",
              "      <td>2927200</td>\n",
              "      <td>Ruy Barbosa</td>\n",
              "      <td>29</td>\n",
              "      <td>BA</td>\n",
              "      <td>1</td>\n",
              "      <td>1</td>\n",
              "      <td>1</td>\n",
              "      <td>1</td>\n",
              "      <td>909.0</td>\n",
              "      <td>881.0</td>\n",
              "      <td>892.0</td>\n",
              "      <td>899.0</td>\n",
              "      <td>507.6</td>\n",
              "      <td>539.2</td>\n",
              "      <td>494.6</td>\n",
              "      <td>413.3</td>\n",
              "      <td>BAEDEBDECCEAEDDCBDEDAEECEEEDBDECBDCECBCCDABED</td>\n",
              "      <td>EEEBAABCBCDBEAEBEACEDDEDECACBDBCDACECDAECBCBD</td>\n",
              "      <td>99999ACAEEEEBDEACDACDEABCEABBDEDBAEEBDEEACDBAC...</td>\n",
              "      <td>BACEACDACBAAAEDCECABBACDCDBBA.CEABCDADADBECBE</td>\n",
              "      <td>1</td>\n",
              "      <td>EDECABEDABCBEBACCDCBBEEBBCBDAAECDCBDCDBBBADCD</td>\n",
              "      <td>BEECCAEABADBCAEBAAEEDDEBBBADBCBAAEEBBBADCCBBA</td>\n",
              "      <td>ABBACAAECACDBDDADEBDDCBDCEDBEDDBBBBDCEEAADABAC...</td>\n",
              "      <td>EEXEBABDDCECCBCCECDCAEBADEABBDBDEDCEDCCADDCAB</td>\n",
              "      <td>1.0</td>\n",
              "      <td>80.0</td>\n",
              "      <td>120.0</td>\n",
              "      <td>80.0</td>\n",
              "      <td>80.0</td>\n",
              "      <td>20.0</td>\n",
              "      <td>380.0</td>\n",
              "      <td>466.94</td>\n",
              "    </tr>\n",
              "    <tr>\n",
              "      <th>1</th>\n",
              "      <td>210054173438</td>\n",
              "      <td>2021</td>\n",
              "      <td>5</td>\n",
              "      <td>F</td>\n",
              "      <td>1</td>\n",
              "      <td>2</td>\n",
              "      <td>1</td>\n",
              "      <td>2</td>\n",
              "      <td>0</td>\n",
              "      <td>2</td>\n",
              "      <td>1.0</td>\n",
              "      <td>0</td>\n",
              "      <td>2927408.0</td>\n",
              "      <td>Salvador</td>\n",
              "      <td>29.0</td>\n",
              "      <td>BA</td>\n",
              "      <td>1.0</td>\n",
              "      <td>1.0</td>\n",
              "      <td>1.0</td>\n",
              "      <td>2927408</td>\n",
              "      <td>Salvador</td>\n",
              "      <td>29</td>\n",
              "      <td>BA</td>\n",
              "      <td>0</td>\n",
              "      <td>0</td>\n",
              "      <td>0</td>\n",
              "      <td>0</td>\n",
              "      <td>NaN</td>\n",
              "      <td>NaN</td>\n",
              "      <td>NaN</td>\n",
              "      <td>NaN</td>\n",
              "      <td>NaN</td>\n",
              "      <td>NaN</td>\n",
              "      <td>NaN</td>\n",
              "      <td>NaN</td>\n",
              "      <td>NaN</td>\n",
              "      <td>NaN</td>\n",
              "      <td>NaN</td>\n",
              "      <td>NaN</td>\n",
              "      <td>0</td>\n",
              "      <td>NaN</td>\n",
              "      <td>NaN</td>\n",
              "      <td>NaN</td>\n",
              "      <td>NaN</td>\n",
              "      <td>NaN</td>\n",
              "      <td>NaN</td>\n",
              "      <td>NaN</td>\n",
              "      <td>NaN</td>\n",
              "      <td>NaN</td>\n",
              "      <td>NaN</td>\n",
              "      <td>NaN</td>\n",
              "      <td>NaN</td>\n",
              "    </tr>\n",
              "    <tr>\n",
              "      <th>2</th>\n",
              "      <td>210052118573</td>\n",
              "      <td>2021</td>\n",
              "      <td>3</td>\n",
              "      <td>F</td>\n",
              "      <td>1</td>\n",
              "      <td>3</td>\n",
              "      <td>1</td>\n",
              "      <td>2</td>\n",
              "      <td>0</td>\n",
              "      <td>2</td>\n",
              "      <td>1.0</td>\n",
              "      <td>0</td>\n",
              "      <td>NaN</td>\n",
              "      <td>NaN</td>\n",
              "      <td>NaN</td>\n",
              "      <td>NaN</td>\n",
              "      <td>NaN</td>\n",
              "      <td>NaN</td>\n",
              "      <td>NaN</td>\n",
              "      <td>2903201</td>\n",
              "      <td>Barreiras</td>\n",
              "      <td>29</td>\n",
              "      <td>BA</td>\n",
              "      <td>1</td>\n",
              "      <td>1</td>\n",
              "      <td>1</td>\n",
              "      <td>1</td>\n",
              "      <td>912.0</td>\n",
              "      <td>882.0</td>\n",
              "      <td>891.0</td>\n",
              "      <td>901.0</td>\n",
              "      <td>439.6</td>\n",
              "      <td>437.7</td>\n",
              "      <td>455.9</td>\n",
              "      <td>446.2</td>\n",
              "      <td>BCEDEACAEDCEDCBDDCCAADABADDEBEECBACDCCABBDCCA</td>\n",
              "      <td>AAEADCDCAAADCBBBAABBEAEDABCDAACDDCBDAAABAABBB</td>\n",
              "      <td>EDBEC99999DDAAEBBDCDBBAABDECAADAEACCDABCEABABE...</td>\n",
              "      <td>EBBEBDCCDDCDCBADABBBCCEABDADCBCCACBDACDCDADCE</td>\n",
              "      <td>0</td>\n",
              "      <td>DABCEDEBEEBBCABEDDCBCBECDADCDAACBDCCCDBBBEBAB</td>\n",
              "      <td>EBAAEADBCACBBABEECBAAEEBBBADCBADBCEDDEBBCAEAB</td>\n",
              "      <td>ACABBACAEADCEADABDACDCEABDDADBEDDDEBBACCDDDCCE...</td>\n",
              "      <td>DCCAEBABDDCABEECCBCCEXADDCEECDEBADCABBDBDEDCE</td>\n",
              "      <td>1.0</td>\n",
              "      <td>80.0</td>\n",
              "      <td>120.0</td>\n",
              "      <td>80.0</td>\n",
              "      <td>100.0</td>\n",
              "      <td>80.0</td>\n",
              "      <td>460.0</td>\n",
              "      <td>447.88</td>\n",
              "    </tr>\n",
              "    <tr>\n",
              "      <th>3</th>\n",
              "      <td>210052350230</td>\n",
              "      <td>2021</td>\n",
              "      <td>10</td>\n",
              "      <td>F</td>\n",
              "      <td>1</td>\n",
              "      <td>2</td>\n",
              "      <td>1</td>\n",
              "      <td>1</td>\n",
              "      <td>8</td>\n",
              "      <td>1</td>\n",
              "      <td>NaN</td>\n",
              "      <td>0</td>\n",
              "      <td>NaN</td>\n",
              "      <td>NaN</td>\n",
              "      <td>NaN</td>\n",
              "      <td>NaN</td>\n",
              "      <td>NaN</td>\n",
              "      <td>NaN</td>\n",
              "      <td>NaN</td>\n",
              "      <td>2928802</td>\n",
              "      <td>Santo Estêvão</td>\n",
              "      <td>29</td>\n",
              "      <td>BA</td>\n",
              "      <td>1</td>\n",
              "      <td>1</td>\n",
              "      <td>1</td>\n",
              "      <td>1</td>\n",
              "      <td>911.0</td>\n",
              "      <td>880.0</td>\n",
              "      <td>890.0</td>\n",
              "      <td>902.0</td>\n",
              "      <td>548.1</td>\n",
              "      <td>619.5</td>\n",
              "      <td>676.3</td>\n",
              "      <td>386.6</td>\n",
              "      <td>CCAECCADEAADDEDDEECEDDEADDDCACDEDCDCDEADBEDDE</td>\n",
              "      <td>DBBEADDCABABCECEAEBEAEDCBCAEABEEDEBBEAABCBDCD</td>\n",
              "      <td>ABCCA99999DDCACDCACABBEAAEBDAEEBDEEAADACEEDDDB...</td>\n",
              "      <td>CAAAAAAAAAAAAAAAAAAAAAAAAAAAAAAAAAAAAAAAAAAAA</td>\n",
              "      <td>0</td>\n",
              "      <td>CDBBBCABEDEDEAAEBACCCBDABCDCBCBDECDADCDBBEEBB</td>\n",
              "      <td>BBBAAEECBBABEECEBAAEADBCACAEABEDDEBBBADBCBADC</td>\n",
              "      <td>ABBCAEAACADDCACDCADABBBBDEBBACEADCEBDDACEEDDDB...</td>\n",
              "      <td>ECCCABBDBDDDCEDDCABXEEEBABEDCEDCCAEBADBCCECDA</td>\n",
              "      <td>1.0</td>\n",
              "      <td>120.0</td>\n",
              "      <td>120.0</td>\n",
              "      <td>100.0</td>\n",
              "      <td>120.0</td>\n",
              "      <td>120.0</td>\n",
              "      <td>580.0</td>\n",
              "      <td>562.10</td>\n",
              "    </tr>\n",
              "    <tr>\n",
              "      <th>4</th>\n",
              "      <td>210053156861</td>\n",
              "      <td>2021</td>\n",
              "      <td>9</td>\n",
              "      <td>M</td>\n",
              "      <td>1</td>\n",
              "      <td>2</td>\n",
              "      <td>1</td>\n",
              "      <td>1</td>\n",
              "      <td>5</td>\n",
              "      <td>1</td>\n",
              "      <td>NaN</td>\n",
              "      <td>0</td>\n",
              "      <td>NaN</td>\n",
              "      <td>NaN</td>\n",
              "      <td>NaN</td>\n",
              "      <td>NaN</td>\n",
              "      <td>NaN</td>\n",
              "      <td>NaN</td>\n",
              "      <td>NaN</td>\n",
              "      <td>2910800</td>\n",
              "      <td>Feira de Santana</td>\n",
              "      <td>29</td>\n",
              "      <td>BA</td>\n",
              "      <td>1</td>\n",
              "      <td>1</td>\n",
              "      <td>1</td>\n",
              "      <td>1</td>\n",
              "      <td>1014.0</td>\n",
              "      <td>1000.0</td>\n",
              "      <td>1004.0</td>\n",
              "      <td>1010.0</td>\n",
              "      <td>465.2</td>\n",
              "      <td>613.1</td>\n",
              "      <td>522.1</td>\n",
              "      <td>579.6</td>\n",
              "      <td>CDCCBDBBDCBACEBDACBCACADBCBECCEBCDDEBDACEECCD</td>\n",
              "      <td>CCBAADECCBACBECCBEADAEBEACBEBBEADEBBABDACDEBC</td>\n",
              "      <td>BADCE99999DABAABBABBBCEDBDCDABEABCBBDCACBABAAA...</td>\n",
              "      <td>CCBACBBCCCCEDDDDCBCCDCACCCBBBDDDBCBADDBCABACA</td>\n",
              "      <td>0</td>\n",
              "      <td>CDBBBCABEDEDEAAEBACCCBDABCDCBCBDECDADCDBBEEBB</td>\n",
              "      <td>BBBAAEECBBABEECEBAAEADBCACAEABEDDEBBBADBCBADC</td>\n",
              "      <td>ABBCAEAACADDCACDCADABBBBDEBBACEADCEBDDACEEDDDB...</td>\n",
              "      <td>ECCCABBDBDDDCEDDCABXEEEBABEDCEDCCAEBADBCCECDA</td>\n",
              "      <td>1.0</td>\n",
              "      <td>100.0</td>\n",
              "      <td>120.0</td>\n",
              "      <td>100.0</td>\n",
              "      <td>120.0</td>\n",
              "      <td>100.0</td>\n",
              "      <td>540.0</td>\n",
              "      <td>544.00</td>\n",
              "    </tr>\n",
              "  </tbody>\n",
              "</table>\n",
              "</div>"
            ],
            "text/plain": [
              "   NU_INSCRICAO  NU_ANO  TP_FAIXA_ETARIA TP_SEXO  TP_ESTADO_CIVIL  \\\n",
              "0  210051128744    2021                4       F                1   \n",
              "1  210054173438    2021                5       F                1   \n",
              "2  210052118573    2021                3       F                1   \n",
              "3  210052350230    2021               10       F                1   \n",
              "4  210053156861    2021                9       M                1   \n",
              "\n",
              "   TP_COR_RACA  TP_NACIONALIDADE  TP_ST_CONCLUSAO  TP_ANO_CONCLUIU  TP_ESCOLA  \\\n",
              "0            3                 1                2                0          2   \n",
              "1            2                 1                2                0          2   \n",
              "2            3                 1                2                0          2   \n",
              "3            2                 1                1                8          1   \n",
              "4            2                 1                1                5          1   \n",
              "\n",
              "   TP_ENSINO  IN_TREINEIRO  CO_MUNICIPIO_ESC NO_MUNICIPIO_ESC  CO_UF_ESC  \\\n",
              "0        1.0             0               NaN              NaN        NaN   \n",
              "1        1.0             0         2927408.0         Salvador       29.0   \n",
              "2        1.0             0               NaN              NaN        NaN   \n",
              "3        NaN             0               NaN              NaN        NaN   \n",
              "4        NaN             0               NaN              NaN        NaN   \n",
              "\n",
              "  SG_UF_ESC  TP_DEPENDENCIA_ADM_ESC  TP_LOCALIZACAO_ESC  TP_SIT_FUNC_ESC  \\\n",
              "0       NaN                     NaN                 NaN              NaN   \n",
              "1        BA                     1.0                 1.0              1.0   \n",
              "2       NaN                     NaN                 NaN              NaN   \n",
              "3       NaN                     NaN                 NaN              NaN   \n",
              "4       NaN                     NaN                 NaN              NaN   \n",
              "\n",
              "   CO_MUNICIPIO_PROVA NO_MUNICIPIO_PROVA  CO_UF_PROVA SG_UF_PROVA  \\\n",
              "0             2927200        Ruy Barbosa           29          BA   \n",
              "1             2927408           Salvador           29          BA   \n",
              "2             2903201          Barreiras           29          BA   \n",
              "3             2928802      Santo Estêvão           29          BA   \n",
              "4             2910800   Feira de Santana           29          BA   \n",
              "\n",
              "   TP_PRESENCA_CN  TP_PRESENCA_CH  TP_PRESENCA_LC  TP_PRESENCA_MT  \\\n",
              "0               1               1               1               1   \n",
              "1               0               0               0               0   \n",
              "2               1               1               1               1   \n",
              "3               1               1               1               1   \n",
              "4               1               1               1               1   \n",
              "\n",
              "   CO_PROVA_CN  CO_PROVA_CH  CO_PROVA_LC  CO_PROVA_MT  NU_NOTA_CN  NU_NOTA_CH  \\\n",
              "0        909.0        881.0        892.0        899.0       507.6       539.2   \n",
              "1          NaN          NaN          NaN          NaN         NaN         NaN   \n",
              "2        912.0        882.0        891.0        901.0       439.6       437.7   \n",
              "3        911.0        880.0        890.0        902.0       548.1       619.5   \n",
              "4       1014.0       1000.0       1004.0       1010.0       465.2       613.1   \n",
              "\n",
              "   NU_NOTA_LC  NU_NOTA_MT                                TX_RESPOSTAS_CN  \\\n",
              "0       494.6       413.3  BAEDEBDECCEAEDDCBDEDAEECEEEDBDECBDCECBCCDABED   \n",
              "1         NaN         NaN                                            NaN   \n",
              "2       455.9       446.2  BCEDEACAEDCEDCBDDCCAADABADDEBEECBACDCCABBDCCA   \n",
              "3       676.3       386.6  CCAECCADEAADDEDDEECEDDEADDDCACDEDCDCDEADBEDDE   \n",
              "4       522.1       579.6  CDCCBDBBDCBACEBDACBCACADBCBECCEBCDDEBDACEECCD   \n",
              "\n",
              "                                 TX_RESPOSTAS_CH  \\\n",
              "0  EEEBAABCBCDBEAEBEACEDDEDECACBDBCDACECDAECBCBD   \n",
              "1                                            NaN   \n",
              "2  AAEADCDCAAADCBBBAABBEAEDABCDAACDDCBDAAABAABBB   \n",
              "3  DBBEADDCABABCECEAEBEAEDCBCAEABEEDEBBEAABCBDCD   \n",
              "4  CCBAADECCBACBECCBEADAEBEACBEBBEADEBBABDACDEBC   \n",
              "\n",
              "                                     TX_RESPOSTAS_LC  \\\n",
              "0  99999ACAEEEEBDEACDACDEABCEABBDEDBAEEBDEEACDBAC...   \n",
              "1                                                NaN   \n",
              "2  EDBEC99999DDAAEBBDCDBBAABDECAADAEACCDABCEABABE...   \n",
              "3  ABCCA99999DDCACDCACABBEAAEBDAEEBDEEAADACEEDDDB...   \n",
              "4  BADCE99999DABAABBABBBCEDBDCDABEABCBBDCACBABAAA...   \n",
              "\n",
              "                                 TX_RESPOSTAS_MT  TP_LINGUA  \\\n",
              "0  BACEACDACBAAAEDCECABBACDCDBBA.CEABCDADADBECBE          1   \n",
              "1                                            NaN          0   \n",
              "2  EBBEBDCCDDCDCBADABBBCCEABDADCBCCACBDACDCDADCE          0   \n",
              "3  CAAAAAAAAAAAAAAAAAAAAAAAAAAAAAAAAAAAAAAAAAAAA          0   \n",
              "4  CCBACBBCCCCEDDDDCBCCDCACCCBBBDDDBCBADDBCABACA          0   \n",
              "\n",
              "                                  TX_GABARITO_CN  \\\n",
              "0  EDECABEDABCBEBACCDCBBEEBBCBDAAECDCBDCDBBBADCD   \n",
              "1                                            NaN   \n",
              "2  DABCEDEBEEBBCABEDDCBCBECDADCDAACBDCCCDBBBEBAB   \n",
              "3  CDBBBCABEDEDEAAEBACCCBDABCDCBCBDECDADCDBBEEBB   \n",
              "4  CDBBBCABEDEDEAAEBACCCBDABCDCBCBDECDADCDBBEEBB   \n",
              "\n",
              "                                  TX_GABARITO_CH  \\\n",
              "0  BEECCAEABADBCAEBAAEEDDEBBBADBCBAAEEBBBADCCBBA   \n",
              "1                                            NaN   \n",
              "2  EBAAEADBCACBBABEECBAAEEBBBADCBADBCEDDEBBCAEAB   \n",
              "3  BBBAAEECBBABEECEBAAEADBCACAEABEDDEBBBADBCBADC   \n",
              "4  BBBAAEECBBABEECEBAAEADBCACAEABEDDEBBBADBCBADC   \n",
              "\n",
              "                                      TX_GABARITO_LC  \\\n",
              "0  ABBACAAECACDBDDADEBDDCBDCEDBEDDBBBBDCEEAADABAC...   \n",
              "1                                                NaN   \n",
              "2  ACABBACAEADCEADABDACDCEABDDADBEDDDEBBACCDDDCCE...   \n",
              "3  ABBCAEAACADDCACDCADABBBBDEBBACEADCEBDDACEEDDDB...   \n",
              "4  ABBCAEAACADDCACDCADABBBBDEBBACEADCEBDDACEEDDDB...   \n",
              "\n",
              "                                  TX_GABARITO_MT  TP_STATUS_REDACAO  \\\n",
              "0  EEXEBABDDCECCBCCECDCAEBADEABBDBDEDCEDCCADDCAB                1.0   \n",
              "1                                            NaN                NaN   \n",
              "2  DCCAEBABDDCABEECCBCCEXADDCEECDEBADCABBDBDEDCE                1.0   \n",
              "3  ECCCABBDBDDDCEDDCABXEEEBABEDCEDCCAEBADBCCECDA                1.0   \n",
              "4  ECCCABBDBDDDCEDDCABXEEEBABEDCEDCCAEBADBCCECDA                1.0   \n",
              "\n",
              "   NU_NOTA_COMP1  NU_NOTA_COMP2  NU_NOTA_COMP3  NU_NOTA_COMP4  NU_NOTA_COMP5  \\\n",
              "0           80.0          120.0           80.0           80.0           20.0   \n",
              "1            NaN            NaN            NaN            NaN            NaN   \n",
              "2           80.0          120.0           80.0          100.0           80.0   \n",
              "3          120.0          120.0          100.0          120.0          120.0   \n",
              "4          100.0          120.0          100.0          120.0          100.0   \n",
              "\n",
              "   NU_NOTA_REDACAO    MEAN  \n",
              "0            380.0  466.94  \n",
              "1              NaN     NaN  \n",
              "2            460.0  447.88  \n",
              "3            580.0  562.10  \n",
              "4            540.0  544.00  "
            ]
          },
          "execution_count": 94,
          "metadata": {},
          "output_type": "execute_result"
        }
      ],
      "source": [
        "df.head()"
      ]
    },
    {
      "cell_type": "code",
      "execution_count": null,
      "id": "2f5b0be1-3f15-40e2-8d33-ea65d12de7f9",
      "metadata": {
        "id": "2f5b0be1-3f15-40e2-8d33-ea65d12de7f9",
        "outputId": "03343a07-f23a-457f-be59-74c2ddd07c70"
      },
      "outputs": [
        {
          "data": {
            "text/plain": [
              "0              Ruy Barbosa\n",
              "1                 Salvador\n",
              "2                Barreiras\n",
              "3            Santo Estêvão\n",
              "4         Feira de Santana\n",
              "                ...       \n",
              "266189          Alagoinhas\n",
              "266190            Juazeiro\n",
              "266191            Salvador\n",
              "266192            Salvador\n",
              "266193            Salvador\n",
              "Name: NO_MUNICIPIO_PROVA, Length: 266194, dtype: object"
            ]
          },
          "execution_count": 95,
          "metadata": {},
          "output_type": "execute_result"
        }
      ],
      "source": [
        "df.NO_MUNICIPIO_PROVA"
      ]
    },
    {
      "cell_type": "code",
      "execution_count": null,
      "id": "064ae42d-2a80-4786-86fc-dbbb288b9ac7",
      "metadata": {
        "id": "064ae42d-2a80-4786-86fc-dbbb288b9ac7",
        "outputId": "75251d98-6619-41c0-a1f0-05c308f1e7a2"
      },
      "outputs": [
        {
          "data": {
            "text/plain": [
              "<Axes: >"
            ]
          },
          "execution_count": 112,
          "metadata": {},
          "output_type": "execute_result"
        },
        {
          "data": {
            "image/png": "[encoded data removed]",
            "text/plain": [
              "<Figure size 640x480 with 1 Axes>"
            ]
          },
          "metadata": {},
          "output_type": "display_data"
        }
      ],
      "source": [
        "df.NU_NOTA_MT.hist()"
      ]
    },
    {
      "cell_type": "code",
      "execution_count": null,
      "id": "b2bab97f-9643-44a9-959d-fef8828cecdf",
      "metadata": {
        "id": "b2bab97f-9643-44a9-959d-fef8828cecdf"
      },
      "outputs": [],
      "source": [
        "df_visao_municipio = (\n",
        "    df\n",
        "    .query('NU_NOTA_MT != 0 ')\n",
        "    .groupby(by = ['NO_MUNICIPIO_PROVA', 'CO_MUNICIPIO_PROVA'], as_index = False)['NU_NOTA_MT']\n",
        "    .agg([np.min, np.mean, np.median, np.max])\n",
        "    .reset_index(drop = False)\n",
        "    .rename(\n",
        "        columns = {\n",
        "            'CO_MUNICIPIO_PROVA' : 'COD_IBGE',\n",
        "            'NO_MUNICIPIO_PROVA': 'Município',\n",
        "            'amin' : 'Mínimo_MT',\n",
        "            'mean' : 'Média_MT',\n",
        "            'median' : 'Mediana_MT',\n",
        "            'amax' : 'Máximo_MT'\n",
        "                  })\n",
        "    .sort_values(by = ['Máximo_MT', 'Média_MT', 'Mediana_MT'], ascending = False)\n",
        "    .reset_index(drop = True)\n",
        ")"
      ]
    },
    {
      "cell_type": "code",
      "execution_count": null,
      "id": "bdec6eb2-3425-4614-886c-eecfa3826212",
      "metadata": {
        "id": "bdec6eb2-3425-4614-886c-eecfa3826212",
        "outputId": "f29d74a9-e3f2-43ac-9675-d974733a651c"
      },
      "outputs": [
        {
          "data": {
            "text/html": [
              "<div>\n",
              "<style scoped>\n",
              "    .dataframe tbody tr th:only-of-type {\n",
              "        vertical-align: middle;\n",
              "    }\n",
              "\n",
              "    .dataframe tbody tr th {\n",
              "        vertical-align: top;\n",
              "    }\n",
              "\n",
              "    .dataframe thead th {\n",
              "        text-align: right;\n",
              "    }\n",
              "</style>\n",
              "<table border=\"1\" class=\"dataframe\">\n",
              "  <thead>\n",
              "    <tr style=\"text-align: right;\">\n",
              "      <th></th>\n",
              "      <th>Município</th>\n",
              "      <th>COD_IBGE</th>\n",
              "      <th>Mínimo_MT</th>\n",
              "      <th>Média_MT</th>\n",
              "      <th>Mediana_MT</th>\n",
              "      <th>Máximo_MT</th>\n",
              "    </tr>\n",
              "  </thead>\n",
              "  <tbody>\n",
              "    <tr>\n",
              "      <th>0</th>\n",
              "      <td>Vitória da Conquista</td>\n",
              "      <td>2933307</td>\n",
              "      <td>315.5</td>\n",
              "      <td>536.491289</td>\n",
              "      <td>517.30</td>\n",
              "      <td>953.1</td>\n",
              "    </tr>\n",
              "    <tr>\n",
              "      <th>1</th>\n",
              "      <td>Salvador</td>\n",
              "      <td>2927408</td>\n",
              "      <td>315.3</td>\n",
              "      <td>534.623544</td>\n",
              "      <td>515.60</td>\n",
              "      <td>953.1</td>\n",
              "    </tr>\n",
              "    <tr>\n",
              "      <th>2</th>\n",
              "      <td>Barreiras</td>\n",
              "      <td>2903201</td>\n",
              "      <td>318.8</td>\n",
              "      <td>517.589528</td>\n",
              "      <td>496.80</td>\n",
              "      <td>948.8</td>\n",
              "    </tr>\n",
              "    <tr>\n",
              "      <th>3</th>\n",
              "      <td>Feira de Santana</td>\n",
              "      <td>2910800</td>\n",
              "      <td>316.0</td>\n",
              "      <td>525.103365</td>\n",
              "      <td>502.90</td>\n",
              "      <td>948.5</td>\n",
              "    </tr>\n",
              "    <tr>\n",
              "      <th>4</th>\n",
              "      <td>Serrinha</td>\n",
              "      <td>2930501</td>\n",
              "      <td>346.8</td>\n",
              "      <td>501.138564</td>\n",
              "      <td>479.85</td>\n",
              "      <td>948.5</td>\n",
              "    </tr>\n",
              "  </tbody>\n",
              "</table>\n",
              "</div>"
            ],
            "text/plain": [
              "              Município  COD_IBGE  Mínimo_MT    Média_MT  Mediana_MT  \\\n",
              "0  Vitória da Conquista   2933307      315.5  536.491289      517.30   \n",
              "1              Salvador   2927408      315.3  534.623544      515.60   \n",
              "2             Barreiras   2903201      318.8  517.589528      496.80   \n",
              "3      Feira de Santana   2910800      316.0  525.103365      502.90   \n",
              "4              Serrinha   2930501      346.8  501.138564      479.85   \n",
              "\n",
              "   Máximo_MT  \n",
              "0      953.1  \n",
              "1      953.1  \n",
              "2      948.8  \n",
              "3      948.5  \n",
              "4      948.5  "
            ]
          },
          "execution_count": 146,
          "metadata": {},
          "output_type": "execute_result"
        }
      ],
      "source": [
        "df_visao_municipio.head()"
      ]
    },
    {
      "cell_type": "code",
      "execution_count": null,
      "id": "54f2c46d-8e4a-44f9-b581-720dc29ed7cf",
      "metadata": {
        "id": "54f2c46d-8e4a-44f9-b581-720dc29ed7cf"
      },
      "outputs": [],
      "source": [
        "df_quantidade_inscritos = (\n",
        "    df.groupby(by = ['NO_MUNICIPIO_PROVA', 'CO_MUNICIPIO_PROVA'], as_index = False)['NU_INSCRICAO']\n",
        "    .count()\n",
        "    .rename(columns = {'NO_MUNICIPIO_PROVA' : 'Município',\n",
        "                       'CO_MUNICIPIO_PROVA' : 'COD_IBGE',\n",
        "                       'NU_INSCRICAO' : 'Quantidade_inscritos'\n",
        "                      })\n",
        "    .sort_values(by = ['Quantidade_inscritos'], ascending = False)\n",
        "    .reset_index(drop = True)\n",
        ")"
      ]
    },
    {
      "cell_type": "code",
      "execution_count": null,
      "id": "e4ac0cb4-43d1-4f72-8ed6-776e886a7226",
      "metadata": {
        "id": "e4ac0cb4-43d1-4f72-8ed6-776e886a7226"
      },
      "outputs": [],
      "source": [
        "total = df_quantidade_inscritos.Quantidade_inscritos.sum()"
      ]
    },
    {
      "cell_type": "code",
      "execution_count": null,
      "id": "b00ef48d-ac6b-46de-a518-bac329277a0c",
      "metadata": {
        "id": "b00ef48d-ac6b-46de-a518-bac329277a0c"
      },
      "outputs": [],
      "source": [
        "df_quantidade_inscritos['Percentual_inscritos'] = (df_quantidade_inscritos.Quantidade_inscritos / total * 100).round(2)"
      ]
    },
    {
      "cell_type": "code",
      "execution_count": null,
      "id": "73bab2a3-f61e-4e7c-929e-5bcfedf7803c",
      "metadata": {
        "id": "73bab2a3-f61e-4e7c-929e-5bcfedf7803c"
      },
      "outputs": [],
      "source": [
        "df_quantidade_inscritos['NU_ANO'] = 2021"
      ]
    },
    {
      "cell_type": "code",
      "execution_count": null,
      "id": "59580bf0-db67-42d4-9ae8-0f3847ef538b",
      "metadata": {
        "id": "59580bf0-db67-42d4-9ae8-0f3847ef538b",
        "outputId": "b774b2c4-d97d-494b-976d-d2c3c8ac952d"
      },
      "outputs": [
        {
          "data": {
            "text/html": [
              "<div>\n",
              "<style scoped>\n",
              "    .dataframe tbody tr th:only-of-type {\n",
              "        vertical-align: middle;\n",
              "    }\n",
              "\n",
              "    .dataframe tbody tr th {\n",
              "        vertical-align: top;\n",
              "    }\n",
              "\n",
              "    .dataframe thead th {\n",
              "        text-align: right;\n",
              "    }\n",
              "</style>\n",
              "<table border=\"1\" class=\"dataframe\">\n",
              "  <thead>\n",
              "    <tr style=\"text-align: right;\">\n",
              "      <th></th>\n",
              "      <th>Município</th>\n",
              "      <th>COD_IBGE</th>\n",
              "      <th>Mínimo</th>\n",
              "      <th>Média</th>\n",
              "      <th>Mediana</th>\n",
              "      <th>Máximo</th>\n",
              "    </tr>\n",
              "  </thead>\n",
              "  <tbody>\n",
              "    <tr>\n",
              "      <th>0</th>\n",
              "      <td>Vitória da Conquista</td>\n",
              "      <td>2933307</td>\n",
              "      <td>315.5</td>\n",
              "      <td>536.491289</td>\n",
              "      <td>517.30</td>\n",
              "      <td>953.1</td>\n",
              "    </tr>\n",
              "    <tr>\n",
              "      <th>1</th>\n",
              "      <td>Salvador</td>\n",
              "      <td>2927408</td>\n",
              "      <td>315.3</td>\n",
              "      <td>534.623544</td>\n",
              "      <td>515.60</td>\n",
              "      <td>953.1</td>\n",
              "    </tr>\n",
              "    <tr>\n",
              "      <th>2</th>\n",
              "      <td>Barreiras</td>\n",
              "      <td>2903201</td>\n",
              "      <td>318.8</td>\n",
              "      <td>517.589528</td>\n",
              "      <td>496.80</td>\n",
              "      <td>948.8</td>\n",
              "    </tr>\n",
              "    <tr>\n",
              "      <th>3</th>\n",
              "      <td>Feira de Santana</td>\n",
              "      <td>2910800</td>\n",
              "      <td>316.0</td>\n",
              "      <td>525.103365</td>\n",
              "      <td>502.90</td>\n",
              "      <td>948.5</td>\n",
              "    </tr>\n",
              "    <tr>\n",
              "      <th>4</th>\n",
              "      <td>Serrinha</td>\n",
              "      <td>2930501</td>\n",
              "      <td>346.8</td>\n",
              "      <td>501.138564</td>\n",
              "      <td>479.85</td>\n",
              "      <td>948.5</td>\n",
              "    </tr>\n",
              "  </tbody>\n",
              "</table>\n",
              "</div>"
            ],
            "text/plain": [
              "              Município  COD_IBGE  Mínimo       Média  Mediana  Máximo\n",
              "0  Vitória da Conquista   2933307   315.5  536.491289   517.30   953.1\n",
              "1              Salvador   2927408   315.3  534.623544   515.60   953.1\n",
              "2             Barreiras   2903201   318.8  517.589528   496.80   948.8\n",
              "3      Feira de Santana   2910800   316.0  525.103365   502.90   948.5\n",
              "4              Serrinha   2930501   346.8  501.138564   479.85   948.5"
            ]
          },
          "execution_count": 142,
          "metadata": {},
          "output_type": "execute_result"
        }
      ],
      "source": [
        "df_visao_municipio.head()"
      ]
    },
    {
      "cell_type": "code",
      "execution_count": null,
      "id": "6e69df1d-534a-437a-9be6-29c5defdde8b",
      "metadata": {
        "id": "6e69df1d-534a-437a-9be6-29c5defdde8b",
        "outputId": "6957af47-7cc5-49fa-8d2e-af933a1e8acc"
      },
      "outputs": [
        {
          "data": {
            "text/html": [
              "<div>\n",
              "<style scoped>\n",
              "    .dataframe tbody tr th:only-of-type {\n",
              "        vertical-align: middle;\n",
              "    }\n",
              "\n",
              "    .dataframe tbody tr th {\n",
              "        vertical-align: top;\n",
              "    }\n",
              "\n",
              "    .dataframe thead th {\n",
              "        text-align: right;\n",
              "    }\n",
              "</style>\n",
              "<table border=\"1\" class=\"dataframe\">\n",
              "  <thead>\n",
              "    <tr style=\"text-align: right;\">\n",
              "      <th></th>\n",
              "      <th>Município</th>\n",
              "      <th>COD_IBGE</th>\n",
              "      <th>Quantidade_inscritos</th>\n",
              "      <th>Percentual_inscritos</th>\n",
              "      <th>NU_ANO</th>\n",
              "    </tr>\n",
              "  </thead>\n",
              "  <tbody>\n",
              "    <tr>\n",
              "      <th>0</th>\n",
              "      <td>Salvador</td>\n",
              "      <td>2927408</td>\n",
              "      <td>58502</td>\n",
              "      <td>21.98</td>\n",
              "      <td>2021</td>\n",
              "    </tr>\n",
              "    <tr>\n",
              "      <th>1</th>\n",
              "      <td>Feira de Santana</td>\n",
              "      <td>2910800</td>\n",
              "      <td>16689</td>\n",
              "      <td>6.27</td>\n",
              "      <td>2021</td>\n",
              "    </tr>\n",
              "    <tr>\n",
              "      <th>2</th>\n",
              "      <td>Vitória da Conquista</td>\n",
              "      <td>2933307</td>\n",
              "      <td>10792</td>\n",
              "      <td>4.05</td>\n",
              "      <td>2021</td>\n",
              "    </tr>\n",
              "    <tr>\n",
              "      <th>3</th>\n",
              "      <td>Barreiras</td>\n",
              "      <td>2903201</td>\n",
              "      <td>6083</td>\n",
              "      <td>2.29</td>\n",
              "      <td>2021</td>\n",
              "    </tr>\n",
              "    <tr>\n",
              "      <th>4</th>\n",
              "      <td>Lauro de Freitas</td>\n",
              "      <td>2919207</td>\n",
              "      <td>5647</td>\n",
              "      <td>2.12</td>\n",
              "      <td>2021</td>\n",
              "    </tr>\n",
              "  </tbody>\n",
              "</table>\n",
              "</div>"
            ],
            "text/plain": [
              "              Município  COD_IBGE  Quantidade_inscritos  Percentual_inscritos  \\\n",
              "0              Salvador   2927408                 58502                 21.98   \n",
              "1      Feira de Santana   2910800                 16689                  6.27   \n",
              "2  Vitória da Conquista   2933307                 10792                  4.05   \n",
              "3             Barreiras   2903201                  6083                  2.29   \n",
              "4      Lauro de Freitas   2919207                  5647                  2.12   \n",
              "\n",
              "   NU_ANO  \n",
              "0    2021  \n",
              "1    2021  \n",
              "2    2021  \n",
              "3    2021  \n",
              "4    2021  "
            ]
          },
          "execution_count": 143,
          "metadata": {},
          "output_type": "execute_result"
        }
      ],
      "source": [
        "df_quantidade_inscritos.head()"
      ]
    },
    {
      "cell_type": "code",
      "execution_count": null,
      "id": "b82a94ea-28e7-4509-96ce-2c8cab42eb2a",
      "metadata": {
        "id": "b82a94ea-28e7-4509-96ce-2c8cab42eb2a"
      },
      "outputs": [],
      "source": [
        "df_municipio = pd.merge(\n",
        "    df_visao_municipio.drop(columns = ['Município']),\n",
        "    df_quantidade_inscritos,\n",
        "    on = 'COD_IBGE',\n",
        "    how = 'inner'\n",
        ")"
      ]
    },
    {
      "cell_type": "code",
      "execution_count": null,
      "id": "8f1f9917-e4b3-4200-b062-b93cdd713851",
      "metadata": {
        "id": "8f1f9917-e4b3-4200-b062-b93cdd713851",
        "outputId": "ea1ba203-910b-4f56-feab-f8a6d17dde01"
      },
      "outputs": [
        {
          "data": {
            "text/html": [
              "<div>\n",
              "<style scoped>\n",
              "    .dataframe tbody tr th:only-of-type {\n",
              "        vertical-align: middle;\n",
              "    }\n",
              "\n",
              "    .dataframe tbody tr th {\n",
              "        vertical-align: top;\n",
              "    }\n",
              "\n",
              "    .dataframe thead th {\n",
              "        text-align: right;\n",
              "    }\n",
              "</style>\n",
              "<table border=\"1\" class=\"dataframe\">\n",
              "  <thead>\n",
              "    <tr style=\"text-align: right;\">\n",
              "      <th></th>\n",
              "      <th>COD_IBGE</th>\n",
              "      <th>Mínimo_MT</th>\n",
              "      <th>Média_MT</th>\n",
              "      <th>Mediana_MT</th>\n",
              "      <th>Máximo_MT</th>\n",
              "      <th>Município</th>\n",
              "      <th>Quantidade_inscritos</th>\n",
              "      <th>Percentual_inscritos</th>\n",
              "      <th>NU_ANO</th>\n",
              "    </tr>\n",
              "  </thead>\n",
              "  <tbody>\n",
              "    <tr>\n",
              "      <th>0</th>\n",
              "      <td>2933307</td>\n",
              "      <td>315.5</td>\n",
              "      <td>536.491289</td>\n",
              "      <td>517.30</td>\n",
              "      <td>953.1</td>\n",
              "      <td>Vitória da Conquista</td>\n",
              "      <td>10792</td>\n",
              "      <td>4.05</td>\n",
              "      <td>2021</td>\n",
              "    </tr>\n",
              "    <tr>\n",
              "      <th>1</th>\n",
              "      <td>2927408</td>\n",
              "      <td>315.3</td>\n",
              "      <td>534.623544</td>\n",
              "      <td>515.60</td>\n",
              "      <td>953.1</td>\n",
              "      <td>Salvador</td>\n",
              "      <td>58502</td>\n",
              "      <td>21.98</td>\n",
              "      <td>2021</td>\n",
              "    </tr>\n",
              "    <tr>\n",
              "      <th>2</th>\n",
              "      <td>2903201</td>\n",
              "      <td>318.8</td>\n",
              "      <td>517.589528</td>\n",
              "      <td>496.80</td>\n",
              "      <td>948.8</td>\n",
              "      <td>Barreiras</td>\n",
              "      <td>6083</td>\n",
              "      <td>2.29</td>\n",
              "      <td>2021</td>\n",
              "    </tr>\n",
              "    <tr>\n",
              "      <th>3</th>\n",
              "      <td>2910800</td>\n",
              "      <td>316.0</td>\n",
              "      <td>525.103365</td>\n",
              "      <td>502.90</td>\n",
              "      <td>948.5</td>\n",
              "      <td>Feira de Santana</td>\n",
              "      <td>16689</td>\n",
              "      <td>6.27</td>\n",
              "      <td>2021</td>\n",
              "    </tr>\n",
              "    <tr>\n",
              "      <th>4</th>\n",
              "      <td>2930501</td>\n",
              "      <td>346.8</td>\n",
              "      <td>501.138564</td>\n",
              "      <td>479.85</td>\n",
              "      <td>948.5</td>\n",
              "      <td>Serrinha</td>\n",
              "      <td>2802</td>\n",
              "      <td>1.05</td>\n",
              "      <td>2021</td>\n",
              "    </tr>\n",
              "    <tr>\n",
              "      <th>5</th>\n",
              "      <td>2918407</td>\n",
              "      <td>315.1</td>\n",
              "      <td>513.699573</td>\n",
              "      <td>493.65</td>\n",
              "      <td>944.1</td>\n",
              "      <td>Juazeiro</td>\n",
              "      <td>5496</td>\n",
              "      <td>2.06</td>\n",
              "      <td>2021</td>\n",
              "    </tr>\n",
              "    <tr>\n",
              "      <th>6</th>\n",
              "      <td>2921203</td>\n",
              "      <td>358.4</td>\n",
              "      <td>493.272252</td>\n",
              "      <td>466.70</td>\n",
              "      <td>944.1</td>\n",
              "      <td>Miguel Calmon</td>\n",
              "      <td>839</td>\n",
              "      <td>0.32</td>\n",
              "      <td>2021</td>\n",
              "    </tr>\n",
              "    <tr>\n",
              "      <th>7</th>\n",
              "      <td>2918001</td>\n",
              "      <td>320.0</td>\n",
              "      <td>516.230168</td>\n",
              "      <td>496.90</td>\n",
              "      <td>939.7</td>\n",
              "      <td>Jequié</td>\n",
              "      <td>4414</td>\n",
              "      <td>1.66</td>\n",
              "      <td>2021</td>\n",
              "    </tr>\n",
              "    <tr>\n",
              "      <th>8</th>\n",
              "      <td>2925303</td>\n",
              "      <td>310.4</td>\n",
              "      <td>516.561479</td>\n",
              "      <td>497.00</td>\n",
              "      <td>929.5</td>\n",
              "      <td>Porto Seguro</td>\n",
              "      <td>2534</td>\n",
              "      <td>0.95</td>\n",
              "      <td>2021</td>\n",
              "    </tr>\n",
              "    <tr>\n",
              "      <th>9</th>\n",
              "      <td>2924009</td>\n",
              "      <td>347.0</td>\n",
              "      <td>514.556140</td>\n",
              "      <td>494.75</td>\n",
              "      <td>929.1</td>\n",
              "      <td>Paulo Afonso</td>\n",
              "      <td>3007</td>\n",
              "      <td>1.13</td>\n",
              "      <td>2021</td>\n",
              "    </tr>\n",
              "  </tbody>\n",
              "</table>\n",
              "</div>"
            ],
            "text/plain": [
              "   COD_IBGE  Mínimo_MT    Média_MT  Mediana_MT  Máximo_MT  \\\n",
              "0   2933307      315.5  536.491289      517.30      953.1   \n",
              "1   2927408      315.3  534.623544      515.60      953.1   \n",
              "2   2903201      318.8  517.589528      496.80      948.8   \n",
              "3   2910800      316.0  525.103365      502.90      948.5   \n",
              "4   2930501      346.8  501.138564      479.85      948.5   \n",
              "5   2918407      315.1  513.699573      493.65      944.1   \n",
              "6   2921203      358.4  493.272252      466.70      944.1   \n",
              "7   2918001      320.0  516.230168      496.90      939.7   \n",
              "8   2925303      310.4  516.561479      497.00      929.5   \n",
              "9   2924009      347.0  514.556140      494.75      929.1   \n",
              "\n",
              "              Município  Quantidade_inscritos  Percentual_inscritos  NU_ANO  \n",
              "0  Vitória da Conquista                 10792                  4.05    2021  \n",
              "1              Salvador                 58502                 21.98    2021  \n",
              "2             Barreiras                  6083                  2.29    2021  \n",
              "3      Feira de Santana                 16689                  6.27    2021  \n",
              "4              Serrinha                  2802                  1.05    2021  \n",
              "5              Juazeiro                  5496                  2.06    2021  \n",
              "6         Miguel Calmon                   839                  0.32    2021  \n",
              "7                Jequié                  4414                  1.66    2021  \n",
              "8          Porto Seguro                  2534                  0.95    2021  \n",
              "9          Paulo Afonso                  3007                  1.13    2021  "
            ]
          },
          "execution_count": 153,
          "metadata": {},
          "output_type": "execute_result"
        }
      ],
      "source": [
        "df_municipio.head(10)"
      ]
    },
    {
      "cell_type": "code",
      "execution_count": null,
      "id": "e2babeb9-b1ad-4c06-9657-0fa4526b6ae9",
      "metadata": {
        "id": "e2babeb9-b1ad-4c06-9657-0fa4526b6ae9",
        "outputId": "b9849073-b299-4b12-b0b7-c1bc6b3536e6"
      },
      "outputs": [
        {
          "data": {
            "text/html": [
              "<div>\n",
              "<style scoped>\n",
              "    .dataframe tbody tr th:only-of-type {\n",
              "        vertical-align: middle;\n",
              "    }\n",
              "\n",
              "    .dataframe tbody tr th {\n",
              "        vertical-align: top;\n",
              "    }\n",
              "\n",
              "    .dataframe thead th {\n",
              "        text-align: right;\n",
              "    }\n",
              "</style>\n",
              "<table border=\"1\" class=\"dataframe\">\n",
              "  <thead>\n",
              "    <tr style=\"text-align: right;\">\n",
              "      <th></th>\n",
              "      <th>Município</th>\n",
              "      <th>COD_IBGE</th>\n",
              "      <th>Mínimo_MT</th>\n",
              "      <th>Média_MT</th>\n",
              "      <th>Mediana_MT</th>\n",
              "      <th>Máximo_MT</th>\n",
              "      <th>Quantidade_inscritos</th>\n",
              "      <th>Percentual_inscritos</th>\n",
              "      <th>NU_ANO</th>\n",
              "    </tr>\n",
              "  </thead>\n",
              "  <tbody>\n",
              "    <tr>\n",
              "      <th>0</th>\n",
              "      <td>Vitória da Conquista</td>\n",
              "      <td>2933307</td>\n",
              "      <td>315.5</td>\n",
              "      <td>536.491289</td>\n",
              "      <td>517.30</td>\n",
              "      <td>953.1</td>\n",
              "      <td>10792</td>\n",
              "      <td>4.05</td>\n",
              "      <td>2021</td>\n",
              "    </tr>\n",
              "    <tr>\n",
              "      <th>1</th>\n",
              "      <td>Salvador</td>\n",
              "      <td>2927408</td>\n",
              "      <td>315.3</td>\n",
              "      <td>534.623544</td>\n",
              "      <td>515.60</td>\n",
              "      <td>953.1</td>\n",
              "      <td>58502</td>\n",
              "      <td>21.98</td>\n",
              "      <td>2021</td>\n",
              "    </tr>\n",
              "    <tr>\n",
              "      <th>2</th>\n",
              "      <td>Barreiras</td>\n",
              "      <td>2903201</td>\n",
              "      <td>318.8</td>\n",
              "      <td>517.589528</td>\n",
              "      <td>496.80</td>\n",
              "      <td>948.8</td>\n",
              "      <td>6083</td>\n",
              "      <td>2.29</td>\n",
              "      <td>2021</td>\n",
              "    </tr>\n",
              "    <tr>\n",
              "      <th>3</th>\n",
              "      <td>Feira de Santana</td>\n",
              "      <td>2910800</td>\n",
              "      <td>316.0</td>\n",
              "      <td>525.103365</td>\n",
              "      <td>502.90</td>\n",
              "      <td>948.5</td>\n",
              "      <td>16689</td>\n",
              "      <td>6.27</td>\n",
              "      <td>2021</td>\n",
              "    </tr>\n",
              "    <tr>\n",
              "      <th>4</th>\n",
              "      <td>Serrinha</td>\n",
              "      <td>2930501</td>\n",
              "      <td>346.8</td>\n",
              "      <td>501.138564</td>\n",
              "      <td>479.85</td>\n",
              "      <td>948.5</td>\n",
              "      <td>2802</td>\n",
              "      <td>1.05</td>\n",
              "      <td>2021</td>\n",
              "    </tr>\n",
              "    <tr>\n",
              "      <th>...</th>\n",
              "      <td>...</td>\n",
              "      <td>...</td>\n",
              "      <td>...</td>\n",
              "      <td>...</td>\n",
              "      <td>...</td>\n",
              "      <td>...</td>\n",
              "      <td>...</td>\n",
              "      <td>...</td>\n",
              "      <td>...</td>\n",
              "    </tr>\n",
              "    <tr>\n",
              "      <th>157</th>\n",
              "      <td>Cansanção</td>\n",
              "      <td>2906808</td>\n",
              "      <td>360.9</td>\n",
              "      <td>475.027413</td>\n",
              "      <td>459.20</td>\n",
              "      <td>726.9</td>\n",
              "      <td>415</td>\n",
              "      <td>0.16</td>\n",
              "      <td>2021</td>\n",
              "    </tr>\n",
              "    <tr>\n",
              "      <th>158</th>\n",
              "      <td>Oliveira dos Brejinhos</td>\n",
              "      <td>2923209</td>\n",
              "      <td>380.6</td>\n",
              "      <td>505.673239</td>\n",
              "      <td>488.10</td>\n",
              "      <td>707.2</td>\n",
              "      <td>209</td>\n",
              "      <td>0.08</td>\n",
              "      <td>2021</td>\n",
              "    </tr>\n",
              "    <tr>\n",
              "      <th>159</th>\n",
              "      <td>Sento Sé</td>\n",
              "      <td>2930204</td>\n",
              "      <td>367.8</td>\n",
              "      <td>476.352846</td>\n",
              "      <td>462.30</td>\n",
              "      <td>702.3</td>\n",
              "      <td>200</td>\n",
              "      <td>0.08</td>\n",
              "      <td>2021</td>\n",
              "    </tr>\n",
              "    <tr>\n",
              "      <th>160</th>\n",
              "      <td>Umburanas</td>\n",
              "      <td>2932457</td>\n",
              "      <td>357.6</td>\n",
              "      <td>464.582090</td>\n",
              "      <td>453.50</td>\n",
              "      <td>686.9</td>\n",
              "      <td>225</td>\n",
              "      <td>0.08</td>\n",
              "      <td>2021</td>\n",
              "    </tr>\n",
              "    <tr>\n",
              "      <th>161</th>\n",
              "      <td>Caravelas</td>\n",
              "      <td>2906907</td>\n",
              "      <td>352.9</td>\n",
              "      <td>490.168085</td>\n",
              "      <td>480.50</td>\n",
              "      <td>680.2</td>\n",
              "      <td>226</td>\n",
              "      <td>0.08</td>\n",
              "      <td>2021</td>\n",
              "    </tr>\n",
              "  </tbody>\n",
              "</table>\n",
              "<p>162 rows × 9 columns</p>\n",
              "</div>"
            ],
            "text/plain": [
              "                  Município  COD_IBGE  Mínimo_MT    Média_MT  Mediana_MT  \\\n",
              "0      Vitória da Conquista   2933307      315.5  536.491289      517.30   \n",
              "1                  Salvador   2927408      315.3  534.623544      515.60   \n",
              "2                 Barreiras   2903201      318.8  517.589528      496.80   \n",
              "3          Feira de Santana   2910800      316.0  525.103365      502.90   \n",
              "4                  Serrinha   2930501      346.8  501.138564      479.85   \n",
              "..                      ...       ...        ...         ...         ...   \n",
              "157               Cansanção   2906808      360.9  475.027413      459.20   \n",
              "158  Oliveira dos Brejinhos   2923209      380.6  505.673239      488.10   \n",
              "159                Sento Sé   2930204      367.8  476.352846      462.30   \n",
              "160               Umburanas   2932457      357.6  464.582090      453.50   \n",
              "161               Caravelas   2906907      352.9  490.168085      480.50   \n",
              "\n",
              "     Máximo_MT  Quantidade_inscritos  Percentual_inscritos  NU_ANO  \n",
              "0        953.1                 10792                  4.05    2021  \n",
              "1        953.1                 58502                 21.98    2021  \n",
              "2        948.8                  6083                  2.29    2021  \n",
              "3        948.5                 16689                  6.27    2021  \n",
              "4        948.5                  2802                  1.05    2021  \n",
              "..         ...                   ...                   ...     ...  \n",
              "157      726.9                   415                  0.16    2021  \n",
              "158      707.2                   209                  0.08    2021  \n",
              "159      702.3                   200                  0.08    2021  \n",
              "160      686.9                   225                  0.08    2021  \n",
              "161      680.2                   226                  0.08    2021  \n",
              "\n",
              "[162 rows x 9 columns]"
            ]
          },
          "execution_count": 154,
          "metadata": {},
          "output_type": "execute_result"
        }
      ],
      "source": [
        "df_visao_municipio.merge(df_quantidade_inscritos, how = 'inner')"
      ]
    },
    {
      "cell_type": "code",
      "execution_count": null,
      "id": "ab21d0ef-9acf-4d27-8890-eadeb5b4588b",
      "metadata": {
        "id": "ab21d0ef-9acf-4d27-8890-eadeb5b4588b"
      },
      "outputs": [],
      "source": []
    },
    {
      "cell_type": "code",
      "execution_count": null,
      "id": "71c57d8c-be3e-492b-b588-d7c3c239505c",
      "metadata": {
        "id": "71c57d8c-be3e-492b-b588-d7c3c239505c"
      },
      "outputs": [],
      "source": []
    },
    {
      "cell_type": "code",
      "execution_count": null,
      "id": "809af18c-0317-4603-b8c0-b472651b849e",
      "metadata": {
        "id": "809af18c-0317-4603-b8c0-b472651b849e"
      },
      "outputs": [],
      "source": []
    },
    {
      "cell_type": "markdown",
      "id": "df1de064-cf69-4102-8e56-7d90ca4ab00c",
      "metadata": {
        "id": "df1de064-cf69-4102-8e56-7d90ca4ab00c"
      },
      "source": [
        "Crosstab"
      ]
    },
    {
      "cell_type": "code",
      "execution_count": null,
      "id": "0c12d7f0-85e9-431e-b5e0-7706bc1f99c6",
      "metadata": {
        "id": "0c12d7f0-85e9-431e-b5e0-7706bc1f99c6"
      },
      "outputs": [],
      "source": []
    }
  ],
  "metadata": {
    "kernelspec": {
      "display_name": "Python 3 (ipykernel)",
      "language": "python",
      "name": "python3"
    },
    "language_info": {
      "codemirror_mode": {
        "name": "ipython",
        "version": 3
      },
      "file_extension": ".py",
      "mimetype": "text/x-python",
      "name": "python",
      "nbconvert_exporter": "python",
      "pygments_lexer": "ipython3",
      "version": "3.9.16"
    },
    "colab": {
      "provenance": [],
      "include_colab_link": true
    }
  },
  "nbformat": 4,
  "nbformat_minor": 5
}